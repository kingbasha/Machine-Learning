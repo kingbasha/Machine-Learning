{
 "cells": [
  {
   "cell_type": "code",
   "execution_count": 1155,
   "id": "3ec69b14",
   "metadata": {},
   "outputs": [],
   "source": [
    "import pandas as pd\n",
    "import numpy as np\n",
    "import matplotlib.pyplot as plt \n",
    "import seaborn as sns\n",
    "from sklearn.model_selection import train_test_split\n",
    "from sklearn import metrics\n",
    "from sklearn.preprocessing import StandardScaler\n",
    "from sklearn.neighbors import KNeighborsClassifier\n",
    "from sklearn.model_selection import cross_validate\n",
    "from sklearn.linear_model import LogisticRegression\n",
    "from sklearn.model_selection import GridSearchCV\n",
    "from sklearn.ensemble import BaggingClassifier\n",
    "from sklearn.ensemble import AdaBoostClassifier\n",
    "from sklearn.tree import DecisionTreeClassifier\n",
    "from sklearn.metrics import roc_auc_score,roc_curve,classification_report,accuracy_score,confusion_matrix\n",
    "from sklearn.model_selection import train_test_split,GridSearchCV\n",
    "from pylab import rcParams\n",
    "import warnings\n",
    "warnings.filterwarnings('ignore')"
   ]
  },
  {
   "cell_type": "code",
   "execution_count": 1013,
   "id": "5a48b16a",
   "metadata": {},
   "outputs": [],
   "source": [
    "df=pd.read_csv('Transport.csv')"
   ]
  },
  {
   "cell_type": "code",
   "execution_count": 1014,
   "id": "c424fa9b",
   "metadata": {},
   "outputs": [
    {
     "data": {
      "text/html": [
       "<div>\n",
       "<style scoped>\n",
       "    .dataframe tbody tr th:only-of-type {\n",
       "        vertical-align: middle;\n",
       "    }\n",
       "\n",
       "    .dataframe tbody tr th {\n",
       "        vertical-align: top;\n",
       "    }\n",
       "\n",
       "    .dataframe thead th {\n",
       "        text-align: right;\n",
       "    }\n",
       "</style>\n",
       "<table border=\"1\" class=\"dataframe\">\n",
       "  <thead>\n",
       "    <tr style=\"text-align: right;\">\n",
       "      <th></th>\n",
       "      <th>Age</th>\n",
       "      <th>Gender</th>\n",
       "      <th>Engineer</th>\n",
       "      <th>MBA</th>\n",
       "      <th>Work Exp</th>\n",
       "      <th>Salary</th>\n",
       "      <th>Distance</th>\n",
       "      <th>license</th>\n",
       "      <th>Transport</th>\n",
       "    </tr>\n",
       "  </thead>\n",
       "  <tbody>\n",
       "    <tr>\n",
       "      <th>0</th>\n",
       "      <td>28</td>\n",
       "      <td>Male</td>\n",
       "      <td>0</td>\n",
       "      <td>0</td>\n",
       "      <td>4</td>\n",
       "      <td>14.3</td>\n",
       "      <td>3.2</td>\n",
       "      <td>0</td>\n",
       "      <td>Public Transport</td>\n",
       "    </tr>\n",
       "    <tr>\n",
       "      <th>1</th>\n",
       "      <td>23</td>\n",
       "      <td>Female</td>\n",
       "      <td>1</td>\n",
       "      <td>0</td>\n",
       "      <td>4</td>\n",
       "      <td>8.3</td>\n",
       "      <td>3.3</td>\n",
       "      <td>0</td>\n",
       "      <td>Public Transport</td>\n",
       "    </tr>\n",
       "    <tr>\n",
       "      <th>2</th>\n",
       "      <td>29</td>\n",
       "      <td>Male</td>\n",
       "      <td>1</td>\n",
       "      <td>0</td>\n",
       "      <td>7</td>\n",
       "      <td>13.4</td>\n",
       "      <td>4.1</td>\n",
       "      <td>0</td>\n",
       "      <td>Public Transport</td>\n",
       "    </tr>\n",
       "    <tr>\n",
       "      <th>3</th>\n",
       "      <td>28</td>\n",
       "      <td>Female</td>\n",
       "      <td>1</td>\n",
       "      <td>1</td>\n",
       "      <td>5</td>\n",
       "      <td>13.4</td>\n",
       "      <td>4.5</td>\n",
       "      <td>0</td>\n",
       "      <td>Public Transport</td>\n",
       "    </tr>\n",
       "    <tr>\n",
       "      <th>4</th>\n",
       "      <td>27</td>\n",
       "      <td>Male</td>\n",
       "      <td>1</td>\n",
       "      <td>0</td>\n",
       "      <td>4</td>\n",
       "      <td>13.4</td>\n",
       "      <td>4.6</td>\n",
       "      <td>0</td>\n",
       "      <td>Public Transport</td>\n",
       "    </tr>\n",
       "    <tr>\n",
       "      <th>...</th>\n",
       "      <td>...</td>\n",
       "      <td>...</td>\n",
       "      <td>...</td>\n",
       "      <td>...</td>\n",
       "      <td>...</td>\n",
       "      <td>...</td>\n",
       "      <td>...</td>\n",
       "      <td>...</td>\n",
       "      <td>...</td>\n",
       "    </tr>\n",
       "    <tr>\n",
       "      <th>439</th>\n",
       "      <td>40</td>\n",
       "      <td>Male</td>\n",
       "      <td>1</td>\n",
       "      <td>0</td>\n",
       "      <td>20</td>\n",
       "      <td>57.0</td>\n",
       "      <td>21.4</td>\n",
       "      <td>1</td>\n",
       "      <td>Private Transport</td>\n",
       "    </tr>\n",
       "    <tr>\n",
       "      <th>440</th>\n",
       "      <td>38</td>\n",
       "      <td>Male</td>\n",
       "      <td>1</td>\n",
       "      <td>0</td>\n",
       "      <td>19</td>\n",
       "      <td>44.0</td>\n",
       "      <td>21.5</td>\n",
       "      <td>1</td>\n",
       "      <td>Private Transport</td>\n",
       "    </tr>\n",
       "    <tr>\n",
       "      <th>441</th>\n",
       "      <td>37</td>\n",
       "      <td>Male</td>\n",
       "      <td>1</td>\n",
       "      <td>0</td>\n",
       "      <td>19</td>\n",
       "      <td>45.0</td>\n",
       "      <td>21.5</td>\n",
       "      <td>1</td>\n",
       "      <td>Private Transport</td>\n",
       "    </tr>\n",
       "    <tr>\n",
       "      <th>442</th>\n",
       "      <td>37</td>\n",
       "      <td>Male</td>\n",
       "      <td>0</td>\n",
       "      <td>0</td>\n",
       "      <td>19</td>\n",
       "      <td>47.0</td>\n",
       "      <td>22.8</td>\n",
       "      <td>1</td>\n",
       "      <td>Private Transport</td>\n",
       "    </tr>\n",
       "    <tr>\n",
       "      <th>443</th>\n",
       "      <td>39</td>\n",
       "      <td>Male</td>\n",
       "      <td>1</td>\n",
       "      <td>1</td>\n",
       "      <td>21</td>\n",
       "      <td>50.0</td>\n",
       "      <td>23.4</td>\n",
       "      <td>1</td>\n",
       "      <td>Private Transport</td>\n",
       "    </tr>\n",
       "  </tbody>\n",
       "</table>\n",
       "<p>444 rows × 9 columns</p>\n",
       "</div>"
      ],
      "text/plain": [
       "     Age  Gender  Engineer  MBA  Work Exp  Salary  Distance  license  \\\n",
       "0     28    Male         0    0         4    14.3       3.2        0   \n",
       "1     23  Female         1    0         4     8.3       3.3        0   \n",
       "2     29    Male         1    0         7    13.4       4.1        0   \n",
       "3     28  Female         1    1         5    13.4       4.5        0   \n",
       "4     27    Male         1    0         4    13.4       4.6        0   \n",
       "..   ...     ...       ...  ...       ...     ...       ...      ...   \n",
       "439   40    Male         1    0        20    57.0      21.4        1   \n",
       "440   38    Male         1    0        19    44.0      21.5        1   \n",
       "441   37    Male         1    0        19    45.0      21.5        1   \n",
       "442   37    Male         0    0        19    47.0      22.8        1   \n",
       "443   39    Male         1    1        21    50.0      23.4        1   \n",
       "\n",
       "             Transport  \n",
       "0     Public Transport  \n",
       "1     Public Transport  \n",
       "2     Public Transport  \n",
       "3     Public Transport  \n",
       "4     Public Transport  \n",
       "..                 ...  \n",
       "439  Private Transport  \n",
       "440  Private Transport  \n",
       "441  Private Transport  \n",
       "442  Private Transport  \n",
       "443  Private Transport  \n",
       "\n",
       "[444 rows x 9 columns]"
      ]
     },
     "execution_count": 1014,
     "metadata": {},
     "output_type": "execute_result"
    }
   ],
   "source": [
    "df"
   ]
  },
  {
   "cell_type": "code",
   "execution_count": 1015,
   "id": "f3ac4010",
   "metadata": {},
   "outputs": [
    {
     "data": {
      "text/html": [
       "<div>\n",
       "<style scoped>\n",
       "    .dataframe tbody tr th:only-of-type {\n",
       "        vertical-align: middle;\n",
       "    }\n",
       "\n",
       "    .dataframe tbody tr th {\n",
       "        vertical-align: top;\n",
       "    }\n",
       "\n",
       "    .dataframe thead th {\n",
       "        text-align: right;\n",
       "    }\n",
       "</style>\n",
       "<table border=\"1\" class=\"dataframe\">\n",
       "  <thead>\n",
       "    <tr style=\"text-align: right;\">\n",
       "      <th></th>\n",
       "      <th>Age</th>\n",
       "      <th>Gender</th>\n",
       "      <th>Engineer</th>\n",
       "      <th>MBA</th>\n",
       "      <th>Work Exp</th>\n",
       "      <th>Salary</th>\n",
       "      <th>Distance</th>\n",
       "      <th>license</th>\n",
       "      <th>Transport</th>\n",
       "    </tr>\n",
       "  </thead>\n",
       "  <tbody>\n",
       "    <tr>\n",
       "      <th>0</th>\n",
       "      <td>28</td>\n",
       "      <td>Male</td>\n",
       "      <td>0</td>\n",
       "      <td>0</td>\n",
       "      <td>4</td>\n",
       "      <td>14.3</td>\n",
       "      <td>3.2</td>\n",
       "      <td>0</td>\n",
       "      <td>Public Transport</td>\n",
       "    </tr>\n",
       "    <tr>\n",
       "      <th>1</th>\n",
       "      <td>23</td>\n",
       "      <td>Female</td>\n",
       "      <td>1</td>\n",
       "      <td>0</td>\n",
       "      <td>4</td>\n",
       "      <td>8.3</td>\n",
       "      <td>3.3</td>\n",
       "      <td>0</td>\n",
       "      <td>Public Transport</td>\n",
       "    </tr>\n",
       "    <tr>\n",
       "      <th>2</th>\n",
       "      <td>29</td>\n",
       "      <td>Male</td>\n",
       "      <td>1</td>\n",
       "      <td>0</td>\n",
       "      <td>7</td>\n",
       "      <td>13.4</td>\n",
       "      <td>4.1</td>\n",
       "      <td>0</td>\n",
       "      <td>Public Transport</td>\n",
       "    </tr>\n",
       "    <tr>\n",
       "      <th>3</th>\n",
       "      <td>28</td>\n",
       "      <td>Female</td>\n",
       "      <td>1</td>\n",
       "      <td>1</td>\n",
       "      <td>5</td>\n",
       "      <td>13.4</td>\n",
       "      <td>4.5</td>\n",
       "      <td>0</td>\n",
       "      <td>Public Transport</td>\n",
       "    </tr>\n",
       "    <tr>\n",
       "      <th>4</th>\n",
       "      <td>27</td>\n",
       "      <td>Male</td>\n",
       "      <td>1</td>\n",
       "      <td>0</td>\n",
       "      <td>4</td>\n",
       "      <td>13.4</td>\n",
       "      <td>4.6</td>\n",
       "      <td>0</td>\n",
       "      <td>Public Transport</td>\n",
       "    </tr>\n",
       "  </tbody>\n",
       "</table>\n",
       "</div>"
      ],
      "text/plain": [
       "   Age  Gender  Engineer  MBA  Work Exp  Salary  Distance  license  \\\n",
       "0   28    Male         0    0         4    14.3       3.2        0   \n",
       "1   23  Female         1    0         4     8.3       3.3        0   \n",
       "2   29    Male         1    0         7    13.4       4.1        0   \n",
       "3   28  Female         1    1         5    13.4       4.5        0   \n",
       "4   27    Male         1    0         4    13.4       4.6        0   \n",
       "\n",
       "          Transport  \n",
       "0  Public Transport  \n",
       "1  Public Transport  \n",
       "2  Public Transport  \n",
       "3  Public Transport  \n",
       "4  Public Transport  "
      ]
     },
     "execution_count": 1015,
     "metadata": {},
     "output_type": "execute_result"
    }
   ],
   "source": [
    "#head of the data\n",
    "df.head()"
   ]
  },
  {
   "cell_type": "code",
   "execution_count": 1016,
   "id": "511f8ed8",
   "metadata": {},
   "outputs": [
    {
     "data": {
      "text/html": [
       "<div>\n",
       "<style scoped>\n",
       "    .dataframe tbody tr th:only-of-type {\n",
       "        vertical-align: middle;\n",
       "    }\n",
       "\n",
       "    .dataframe tbody tr th {\n",
       "        vertical-align: top;\n",
       "    }\n",
       "\n",
       "    .dataframe thead th {\n",
       "        text-align: right;\n",
       "    }\n",
       "</style>\n",
       "<table border=\"1\" class=\"dataframe\">\n",
       "  <thead>\n",
       "    <tr style=\"text-align: right;\">\n",
       "      <th></th>\n",
       "      <th>Age</th>\n",
       "      <th>Gender</th>\n",
       "      <th>Engineer</th>\n",
       "      <th>MBA</th>\n",
       "      <th>Work Exp</th>\n",
       "      <th>Salary</th>\n",
       "      <th>Distance</th>\n",
       "      <th>license</th>\n",
       "      <th>Transport</th>\n",
       "    </tr>\n",
       "  </thead>\n",
       "  <tbody>\n",
       "    <tr>\n",
       "      <th>439</th>\n",
       "      <td>40</td>\n",
       "      <td>Male</td>\n",
       "      <td>1</td>\n",
       "      <td>0</td>\n",
       "      <td>20</td>\n",
       "      <td>57.0</td>\n",
       "      <td>21.4</td>\n",
       "      <td>1</td>\n",
       "      <td>Private Transport</td>\n",
       "    </tr>\n",
       "    <tr>\n",
       "      <th>440</th>\n",
       "      <td>38</td>\n",
       "      <td>Male</td>\n",
       "      <td>1</td>\n",
       "      <td>0</td>\n",
       "      <td>19</td>\n",
       "      <td>44.0</td>\n",
       "      <td>21.5</td>\n",
       "      <td>1</td>\n",
       "      <td>Private Transport</td>\n",
       "    </tr>\n",
       "    <tr>\n",
       "      <th>441</th>\n",
       "      <td>37</td>\n",
       "      <td>Male</td>\n",
       "      <td>1</td>\n",
       "      <td>0</td>\n",
       "      <td>19</td>\n",
       "      <td>45.0</td>\n",
       "      <td>21.5</td>\n",
       "      <td>1</td>\n",
       "      <td>Private Transport</td>\n",
       "    </tr>\n",
       "    <tr>\n",
       "      <th>442</th>\n",
       "      <td>37</td>\n",
       "      <td>Male</td>\n",
       "      <td>0</td>\n",
       "      <td>0</td>\n",
       "      <td>19</td>\n",
       "      <td>47.0</td>\n",
       "      <td>22.8</td>\n",
       "      <td>1</td>\n",
       "      <td>Private Transport</td>\n",
       "    </tr>\n",
       "    <tr>\n",
       "      <th>443</th>\n",
       "      <td>39</td>\n",
       "      <td>Male</td>\n",
       "      <td>1</td>\n",
       "      <td>1</td>\n",
       "      <td>21</td>\n",
       "      <td>50.0</td>\n",
       "      <td>23.4</td>\n",
       "      <td>1</td>\n",
       "      <td>Private Transport</td>\n",
       "    </tr>\n",
       "  </tbody>\n",
       "</table>\n",
       "</div>"
      ],
      "text/plain": [
       "     Age Gender  Engineer  MBA  Work Exp  Salary  Distance  license  \\\n",
       "439   40   Male         1    0        20    57.0      21.4        1   \n",
       "440   38   Male         1    0        19    44.0      21.5        1   \n",
       "441   37   Male         1    0        19    45.0      21.5        1   \n",
       "442   37   Male         0    0        19    47.0      22.8        1   \n",
       "443   39   Male         1    1        21    50.0      23.4        1   \n",
       "\n",
       "             Transport  \n",
       "439  Private Transport  \n",
       "440  Private Transport  \n",
       "441  Private Transport  \n",
       "442  Private Transport  \n",
       "443  Private Transport  "
      ]
     },
     "execution_count": 1016,
     "metadata": {},
     "output_type": "execute_result"
    }
   ],
   "source": [
    "#tail of the data\n",
    "df.tail()"
   ]
  },
  {
   "cell_type": "markdown",
   "id": "d1ca8139",
   "metadata": {},
   "source": [
    "# 1.1) Read the dataset. Do the descriptive statistics and do null value condition check."
   ]
  },
  {
   "cell_type": "code",
   "execution_count": null,
   "id": "89fc3bc9",
   "metadata": {},
   "outputs": [],
   "source": []
  },
  {
   "cell_type": "markdown",
   "id": "b713361d",
   "metadata": {},
   "source": [
    "# Checking the data info"
   ]
  },
  {
   "cell_type": "code",
   "execution_count": 1017,
   "id": "41a5dbe9",
   "metadata": {},
   "outputs": [
    {
     "name": "stdout",
     "output_type": "stream",
     "text": [
      "<class 'pandas.core.frame.DataFrame'>\n",
      "RangeIndex: 444 entries, 0 to 443\n",
      "Data columns (total 9 columns):\n",
      " #   Column     Non-Null Count  Dtype  \n",
      "---  ------     --------------  -----  \n",
      " 0   Age        444 non-null    int64  \n",
      " 1   Gender     444 non-null    object \n",
      " 2   Engineer   444 non-null    int64  \n",
      " 3   MBA        444 non-null    int64  \n",
      " 4   Work Exp   444 non-null    int64  \n",
      " 5   Salary     444 non-null    float64\n",
      " 6   Distance   444 non-null    float64\n",
      " 7   license    444 non-null    int64  \n",
      " 8   Transport  444 non-null    object \n",
      "dtypes: float64(2), int64(5), object(2)\n",
      "memory usage: 31.3+ KB\n"
     ]
    }
   ],
   "source": [
    "#information of the data\n",
    "df.info()"
   ]
  },
  {
   "cell_type": "markdown",
   "id": "75357352",
   "metadata": {},
   "source": [
    "There are total of 9 variables:\n",
    "float64(2)\n",
    "int64(5)\n",
    "object(2)"
   ]
  },
  {
   "cell_type": "markdown",
   "id": "63596773",
   "metadata": {},
   "source": [
    "# Summary of the data"
   ]
  },
  {
   "cell_type": "code",
   "execution_count": 1018,
   "id": "83a6e45d",
   "metadata": {},
   "outputs": [
    {
     "data": {
      "text/html": [
       "<div>\n",
       "<style scoped>\n",
       "    .dataframe tbody tr th:only-of-type {\n",
       "        vertical-align: middle;\n",
       "    }\n",
       "\n",
       "    .dataframe tbody tr th {\n",
       "        vertical-align: top;\n",
       "    }\n",
       "\n",
       "    .dataframe thead th {\n",
       "        text-align: right;\n",
       "    }\n",
       "</style>\n",
       "<table border=\"1\" class=\"dataframe\">\n",
       "  <thead>\n",
       "    <tr style=\"text-align: right;\">\n",
       "      <th></th>\n",
       "      <th>count</th>\n",
       "      <th>mean</th>\n",
       "      <th>std</th>\n",
       "      <th>min</th>\n",
       "      <th>25%</th>\n",
       "      <th>50%</th>\n",
       "      <th>75%</th>\n",
       "      <th>max</th>\n",
       "    </tr>\n",
       "  </thead>\n",
       "  <tbody>\n",
       "    <tr>\n",
       "      <th>Age</th>\n",
       "      <td>444.0</td>\n",
       "      <td>27.747748</td>\n",
       "      <td>4.416710</td>\n",
       "      <td>18.0</td>\n",
       "      <td>25.0</td>\n",
       "      <td>27.0</td>\n",
       "      <td>30.000</td>\n",
       "      <td>43.0</td>\n",
       "    </tr>\n",
       "    <tr>\n",
       "      <th>Engineer</th>\n",
       "      <td>444.0</td>\n",
       "      <td>0.754505</td>\n",
       "      <td>0.430866</td>\n",
       "      <td>0.0</td>\n",
       "      <td>1.0</td>\n",
       "      <td>1.0</td>\n",
       "      <td>1.000</td>\n",
       "      <td>1.0</td>\n",
       "    </tr>\n",
       "    <tr>\n",
       "      <th>MBA</th>\n",
       "      <td>444.0</td>\n",
       "      <td>0.252252</td>\n",
       "      <td>0.434795</td>\n",
       "      <td>0.0</td>\n",
       "      <td>0.0</td>\n",
       "      <td>0.0</td>\n",
       "      <td>1.000</td>\n",
       "      <td>1.0</td>\n",
       "    </tr>\n",
       "    <tr>\n",
       "      <th>Work Exp</th>\n",
       "      <td>444.0</td>\n",
       "      <td>6.299550</td>\n",
       "      <td>5.112098</td>\n",
       "      <td>0.0</td>\n",
       "      <td>3.0</td>\n",
       "      <td>5.0</td>\n",
       "      <td>8.000</td>\n",
       "      <td>24.0</td>\n",
       "    </tr>\n",
       "    <tr>\n",
       "      <th>Salary</th>\n",
       "      <td>444.0</td>\n",
       "      <td>16.238739</td>\n",
       "      <td>10.453851</td>\n",
       "      <td>6.5</td>\n",
       "      <td>9.8</td>\n",
       "      <td>13.6</td>\n",
       "      <td>15.725</td>\n",
       "      <td>57.0</td>\n",
       "    </tr>\n",
       "    <tr>\n",
       "      <th>Distance</th>\n",
       "      <td>444.0</td>\n",
       "      <td>11.323198</td>\n",
       "      <td>3.606149</td>\n",
       "      <td>3.2</td>\n",
       "      <td>8.8</td>\n",
       "      <td>11.0</td>\n",
       "      <td>13.425</td>\n",
       "      <td>23.4</td>\n",
       "    </tr>\n",
       "    <tr>\n",
       "      <th>license</th>\n",
       "      <td>444.0</td>\n",
       "      <td>0.234234</td>\n",
       "      <td>0.423997</td>\n",
       "      <td>0.0</td>\n",
       "      <td>0.0</td>\n",
       "      <td>0.0</td>\n",
       "      <td>0.000</td>\n",
       "      <td>1.0</td>\n",
       "    </tr>\n",
       "  </tbody>\n",
       "</table>\n",
       "</div>"
      ],
      "text/plain": [
       "          count       mean        std   min   25%   50%     75%   max\n",
       "Age       444.0  27.747748   4.416710  18.0  25.0  27.0  30.000  43.0\n",
       "Engineer  444.0   0.754505   0.430866   0.0   1.0   1.0   1.000   1.0\n",
       "MBA       444.0   0.252252   0.434795   0.0   0.0   0.0   1.000   1.0\n",
       "Work Exp  444.0   6.299550   5.112098   0.0   3.0   5.0   8.000  24.0\n",
       "Salary    444.0  16.238739  10.453851   6.5   9.8  13.6  15.725  57.0\n",
       "Distance  444.0  11.323198   3.606149   3.2   8.8  11.0  13.425  23.4\n",
       "license   444.0   0.234234   0.423997   0.0   0.0   0.0   0.000   1.0"
      ]
     },
     "execution_count": 1018,
     "metadata": {},
     "output_type": "execute_result"
    }
   ],
   "source": [
    "df.describe().T"
   ]
  },
  {
   "cell_type": "markdown",
   "id": "7c297e96",
   "metadata": {},
   "source": [
    "# shape of the dataframe"
   ]
  },
  {
   "cell_type": "code",
   "execution_count": 1019,
   "id": "cd43e162",
   "metadata": {},
   "outputs": [
    {
     "name": "stdout",
     "output_type": "stream",
     "text": [
      "Number of rows: 444 \n",
      "Number of columns: 9\n"
     ]
    }
   ],
   "source": [
    "print('Number of rows:',df.shape[0],'\\nNumber of columns:',df.shape[1])"
   ]
  },
  {
   "cell_type": "markdown",
   "id": "2c797602",
   "metadata": {},
   "source": [
    "# unique counts"
   ]
  },
  {
   "cell_type": "code",
   "execution_count": 1020,
   "id": "1879f1a4",
   "metadata": {},
   "outputs": [
    {
     "name": "stdout",
     "output_type": "stream",
     "text": [
      "GENDER :  2\n",
      "Female    128\n",
      "Male      316\n",
      "Name: Gender, dtype: int64\n",
      "\n",
      "\n",
      "TRANSPORT :  2\n",
      "Private Transport    144\n",
      "Public Transport     300\n",
      "Name: Transport, dtype: int64\n",
      "\n",
      "\n"
     ]
    }
   ],
   "source": [
    "for column in df.columns:\n",
    "    if df[column].dtype == 'object':\n",
    "        print(column.upper(),': ',df[column].nunique())\n",
    "        print(df[column].value_counts().sort_values())\n",
    "        print('\\n')"
   ]
  },
  {
   "cell_type": "markdown",
   "id": "b7b4f38e",
   "metadata": {},
   "source": [
    "# Checking for missing value in any column"
   ]
  },
  {
   "cell_type": "code",
   "execution_count": 1021,
   "id": "71f23038",
   "metadata": {},
   "outputs": [
    {
     "data": {
      "text/plain": [
       "Age          0\n",
       "Gender       0\n",
       "Engineer     0\n",
       "MBA          0\n",
       "Work Exp     0\n",
       "Salary       0\n",
       "Distance     0\n",
       "license      0\n",
       "Transport    0\n",
       "dtype: int64"
      ]
     },
     "execution_count": 1021,
     "metadata": {},
     "output_type": "execute_result"
    }
   ],
   "source": [
    "df.isnull().sum()"
   ]
  },
  {
   "cell_type": "markdown",
   "id": "23655fea",
   "metadata": {},
   "source": [
    "From the above, it is clear that there is no null values."
   ]
  },
  {
   "cell_type": "markdown",
   "id": "57d928c5",
   "metadata": {},
   "source": [
    "# Checking for duplicate data"
   ]
  },
  {
   "cell_type": "code",
   "execution_count": 1022,
   "id": "60386b14",
   "metadata": {},
   "outputs": [
    {
     "name": "stdout",
     "output_type": "stream",
     "text": [
      "Number of duplicate rows = 0\n"
     ]
    },
    {
     "data": {
      "text/html": [
       "<div>\n",
       "<style scoped>\n",
       "    .dataframe tbody tr th:only-of-type {\n",
       "        vertical-align: middle;\n",
       "    }\n",
       "\n",
       "    .dataframe tbody tr th {\n",
       "        vertical-align: top;\n",
       "    }\n",
       "\n",
       "    .dataframe thead th {\n",
       "        text-align: right;\n",
       "    }\n",
       "</style>\n",
       "<table border=\"1\" class=\"dataframe\">\n",
       "  <thead>\n",
       "    <tr style=\"text-align: right;\">\n",
       "      <th></th>\n",
       "      <th>Age</th>\n",
       "      <th>Gender</th>\n",
       "      <th>Engineer</th>\n",
       "      <th>MBA</th>\n",
       "      <th>Work Exp</th>\n",
       "      <th>Salary</th>\n",
       "      <th>Distance</th>\n",
       "      <th>license</th>\n",
       "      <th>Transport</th>\n",
       "    </tr>\n",
       "  </thead>\n",
       "  <tbody>\n",
       "  </tbody>\n",
       "</table>\n",
       "</div>"
      ],
      "text/plain": [
       "Empty DataFrame\n",
       "Columns: [Age, Gender, Engineer, MBA, Work Exp, Salary, Distance, license, Transport]\n",
       "Index: []"
      ]
     },
     "execution_count": 1022,
     "metadata": {},
     "output_type": "execute_result"
    }
   ],
   "source": [
    "dups = df.duplicated()\n",
    "print('Number of duplicate rows = %d' % (dups.sum()))\n",
    "df[dups]"
   ]
  },
  {
   "cell_type": "markdown",
   "id": "11cec8ff",
   "metadata": {},
   "source": [
    "From the above, it is clear that there is no duplicated values."
   ]
  },
  {
   "cell_type": "code",
   "execution_count": null,
   "id": "a4977cba",
   "metadata": {},
   "outputs": [],
   "source": []
  },
  {
   "cell_type": "markdown",
   "id": "834b3211",
   "metadata": {},
   "source": [
    "# 1.2 Perform EDA (Check the null values, Data types, shape, Univariate, bivariate analysis). Also check for outliers (5 pts). Interpret the inferences for each (3 pts)"
   ]
  },
  {
   "cell_type": "markdown",
   "id": "b7bf6ec5",
   "metadata": {},
   "source": [
    "# Univariate Analysis "
   ]
  },
  {
   "cell_type": "markdown",
   "id": "c4d08646",
   "metadata": {},
   "source": [
    "# Checking the spread of the data using countplot for the continuous variable."
   ]
  },
  {
   "cell_type": "code",
   "execution_count": 1023,
   "id": "2e007d8e",
   "metadata": {
    "scrolled": false
   },
   "outputs": [
    {
     "data": {
      "image/png": "[encoded data removed]",
      "text/plain": [
       "<Figure size 576x360 with 1 Axes>"
      ]
     },
     "metadata": {
      "needs_background": "light"
     },
     "output_type": "display_data"
    },
    {
     "data": {
      "image/png": "[encoded data removed]",
      "text/plain": [
       "<Figure size 576x360 with 1 Axes>"
      ]
     },
     "metadata": {
      "needs_background": "light"
     },
     "output_type": "display_data"
    },
    {
     "data": {
      "image/png": "[encoded data removed]",
      "text/plain": [
       "<Figure size 576x360 with 1 Axes>"
      ]
     },
     "metadata": {
      "needs_background": "light"
     },
     "output_type": "display_data"
    },
    {
     "data": {
      "image/png": "[encoded data removed]",
      "text/plain": [
       "<Figure size 576x360 with 1 Axes>"
      ]
     },
     "metadata": {
      "needs_background": "light"
     },
     "output_type": "display_data"
    },
    {
     "data": {
      "image/png": "[encoded data removed]",
      "text/plain": [
       "<Figure size 576x360 with 1 Axes>"
      ]
     },
     "metadata": {
      "needs_background": "light"
     },
     "output_type": "display_data"
    },
    {
     "data": {
      "image/png": "[encoded data removed]",
      "text/plain": [
       "<Figure size 576x360 with 1 Axes>"
      ]
     },
     "metadata": {
      "needs_background": "light"
     },
     "output_type": "display_data"
    },
    {
     "data": {
      "image/png": "[encoded data removed]",
      "text/plain": [
       "<Figure size 576x360 with 1 Axes>"
      ]
     },
     "metadata": {
      "needs_background": "light"
     },
     "output_type": "display_data"
    }
   ],
   "source": [
    "cols = ['Age','Engineer','MBA','Work Exp','Salary','Distance','license']\n",
    "for i in cols:\n",
    "    plt.figure(figsize=(8,5))\n",
    "    sns.countplot(df1[i])\n",
    "    plt.grid()\n",
    "    plt.show();"
   ]
  },
  {
   "cell_type": "code",
   "execution_count": null,
   "id": "a996041b",
   "metadata": {},
   "outputs": [],
   "source": []
  },
  {
   "cell_type": "markdown",
   "id": "db9c5cb8",
   "metadata": {},
   "source": [
    "# Checking the spread of the data using countplot for the categorical variables."
   ]
  },
  {
   "cell_type": "code",
   "execution_count": 1024,
   "id": "e5bc071b",
   "metadata": {},
   "outputs": [
    {
     "data": {
      "image/png": "[encoded data removed]",
      "text/plain": [
       "<Figure size 576x360 with 1 Axes>"
      ]
     },
     "metadata": {
      "needs_background": "light"
     },
     "output_type": "display_data"
    },
    {
     "data": {
      "image/png": "[encoded data removed]",
      "text/plain": [
       "<Figure size 576x360 with 1 Axes>"
      ]
     },
     "metadata": {
      "needs_background": "light"
     },
     "output_type": "display_data"
    }
   ],
   "source": [
    "cols = ['Gender','Transport']\n",
    "for i in cols:\n",
    "    plt.figure(figsize=(8,5))\n",
    "    sns.countplot(df[i])\n",
    "    plt.grid()\n",
    "    plt.show();"
   ]
  },
  {
   "cell_type": "markdown",
   "id": "ca5ce1e5",
   "metadata": {},
   "source": [
    "# Bivariate Analysis"
   ]
  },
  {
   "cell_type": "code",
   "execution_count": 1025,
   "id": "4953404c",
   "metadata": {},
   "outputs": [
    {
     "data": {
      "image/png": "[encoded data removed]",
      "text/plain": [
       "<Figure size 1260x1260 with 56 Axes>"
      ]
     },
     "metadata": {
      "needs_background": "light"
     },
     "output_type": "display_data"
    }
   ],
   "source": [
    "df1 = (df[cont_cols])\n",
    "sns.pairplot(df1, diag_kind='kde')  \n",
    "plt.show()"
   ]
  },
  {
   "cell_type": "markdown",
   "id": "e4d3d702",
   "metadata": {},
   "source": [
    "# Checking for Correlation"
   ]
  },
  {
   "cell_type": "code",
   "execution_count": 1026,
   "id": "0b8f1c14",
   "metadata": {},
   "outputs": [
    {
     "data": {
      "text/html": [
       "<div>\n",
       "<style scoped>\n",
       "    .dataframe tbody tr th:only-of-type {\n",
       "        vertical-align: middle;\n",
       "    }\n",
       "\n",
       "    .dataframe tbody tr th {\n",
       "        vertical-align: top;\n",
       "    }\n",
       "\n",
       "    .dataframe thead th {\n",
       "        text-align: right;\n",
       "    }\n",
       "</style>\n",
       "<table border=\"1\" class=\"dataframe\">\n",
       "  <thead>\n",
       "    <tr style=\"text-align: right;\">\n",
       "      <th></th>\n",
       "      <th>Age</th>\n",
       "      <th>Engineer</th>\n",
       "      <th>MBA</th>\n",
       "      <th>Work Exp</th>\n",
       "      <th>Salary</th>\n",
       "      <th>Distance</th>\n",
       "      <th>license</th>\n",
       "    </tr>\n",
       "  </thead>\n",
       "  <tbody>\n",
       "    <tr>\n",
       "      <th>Age</th>\n",
       "      <td>1.000000</td>\n",
       "      <td>0.091935</td>\n",
       "      <td>-0.029090</td>\n",
       "      <td>0.932236</td>\n",
       "      <td>0.860673</td>\n",
       "      <td>0.352872</td>\n",
       "      <td>0.452311</td>\n",
       "    </tr>\n",
       "    <tr>\n",
       "      <th>Engineer</th>\n",
       "      <td>0.091935</td>\n",
       "      <td>1.000000</td>\n",
       "      <td>0.066218</td>\n",
       "      <td>0.085729</td>\n",
       "      <td>0.086762</td>\n",
       "      <td>0.059316</td>\n",
       "      <td>0.018924</td>\n",
       "    </tr>\n",
       "    <tr>\n",
       "      <th>MBA</th>\n",
       "      <td>-0.029090</td>\n",
       "      <td>0.066218</td>\n",
       "      <td>1.000000</td>\n",
       "      <td>0.008582</td>\n",
       "      <td>-0.007270</td>\n",
       "      <td>0.036427</td>\n",
       "      <td>-0.027358</td>\n",
       "    </tr>\n",
       "    <tr>\n",
       "      <th>Work Exp</th>\n",
       "      <td>0.932236</td>\n",
       "      <td>0.085729</td>\n",
       "      <td>0.008582</td>\n",
       "      <td>1.000000</td>\n",
       "      <td>0.931974</td>\n",
       "      <td>0.372735</td>\n",
       "      <td>0.452867</td>\n",
       "    </tr>\n",
       "    <tr>\n",
       "      <th>Salary</th>\n",
       "      <td>0.860673</td>\n",
       "      <td>0.086762</td>\n",
       "      <td>-0.007270</td>\n",
       "      <td>0.931974</td>\n",
       "      <td>1.000000</td>\n",
       "      <td>0.442359</td>\n",
       "      <td>0.508095</td>\n",
       "    </tr>\n",
       "    <tr>\n",
       "      <th>Distance</th>\n",
       "      <td>0.352872</td>\n",
       "      <td>0.059316</td>\n",
       "      <td>0.036427</td>\n",
       "      <td>0.372735</td>\n",
       "      <td>0.442359</td>\n",
       "      <td>1.000000</td>\n",
       "      <td>0.290084</td>\n",
       "    </tr>\n",
       "    <tr>\n",
       "      <th>license</th>\n",
       "      <td>0.452311</td>\n",
       "      <td>0.018924</td>\n",
       "      <td>-0.027358</td>\n",
       "      <td>0.452867</td>\n",
       "      <td>0.508095</td>\n",
       "      <td>0.290084</td>\n",
       "      <td>1.000000</td>\n",
       "    </tr>\n",
       "  </tbody>\n",
       "</table>\n",
       "</div>"
      ],
      "text/plain": [
       "               Age  Engineer       MBA  Work Exp    Salary  Distance   license\n",
       "Age       1.000000  0.091935 -0.029090  0.932236  0.860673  0.352872  0.452311\n",
       "Engineer  0.091935  1.000000  0.066218  0.085729  0.086762  0.059316  0.018924\n",
       "MBA      -0.029090  0.066218  1.000000  0.008582 -0.007270  0.036427 -0.027358\n",
       "Work Exp  0.932236  0.085729  0.008582  1.000000  0.931974  0.372735  0.452867\n",
       "Salary    0.860673  0.086762 -0.007270  0.931974  1.000000  0.442359  0.508095\n",
       "Distance  0.352872  0.059316  0.036427  0.372735  0.442359  1.000000  0.290084\n",
       "license   0.452311  0.018924 -0.027358  0.452867  0.508095  0.290084  1.000000"
      ]
     },
     "execution_count": 1026,
     "metadata": {},
     "output_type": "execute_result"
    }
   ],
   "source": [
    "df.corr()"
   ]
  },
  {
   "cell_type": "markdown",
   "id": "c3c7f222",
   "metadata": {},
   "source": [
    "# Checking on Heat map"
   ]
  },
  {
   "cell_type": "code",
   "execution_count": 1027,
   "id": "4bbcc877",
   "metadata": {},
   "outputs": [
    {
     "data": {
      "text/plain": [
       "<AxesSubplot:>"
      ]
     },
     "execution_count": 1027,
     "metadata": {},
     "output_type": "execute_result"
    },
    {
     "data": {
      "image/png": "[encoded data removed]",
      "text/plain": [
       "<Figure size 864x720 with 2 Axes>"
      ]
     },
     "metadata": {
      "needs_background": "light"
     },
     "output_type": "display_data"
    }
   ],
   "source": [
    "plt.figure(figsize=(12,10))\n",
    "sns.heatmap(df.corr(),annot=True)"
   ]
  },
  {
   "cell_type": "markdown",
   "id": "8ded0fc1",
   "metadata": {},
   "source": [
    "# Checking for Outliers"
   ]
  },
  {
   "cell_type": "code",
   "execution_count": 1028,
   "id": "6597554d",
   "metadata": {},
   "outputs": [
    {
     "data": {
      "image/png": "[encoded data removed]",
      "text/plain": [
       "<Figure size 1080x1080 with 1 Axes>"
      ]
     },
     "metadata": {
      "needs_background": "light"
     },
     "output_type": "display_data"
    }
   ],
   "source": [
    "plt.figure(figsize=(15,15))\n",
    "df[['Age','Engineer','MBA','Work Exp','Salary','Distance','license']].boxplot(vert=1)\n",
    "plt.show()"
   ]
  },
  {
   "cell_type": "markdown",
   "id": "b6d51a73",
   "metadata": {},
   "source": [
    "# percentage of outliers present in the dataset"
   ]
  },
  {
   "cell_type": "code",
   "execution_count": 1029,
   "id": "14f9cff6",
   "metadata": {},
   "outputs": [
    {
     "data": {
      "text/html": [
       "<div>\n",
       "<style scoped>\n",
       "    .dataframe tbody tr th:only-of-type {\n",
       "        vertical-align: middle;\n",
       "    }\n",
       "\n",
       "    .dataframe tbody tr th {\n",
       "        vertical-align: top;\n",
       "    }\n",
       "\n",
       "    .dataframe thead th {\n",
       "        text-align: right;\n",
       "    }\n",
       "</style>\n",
       "<table border=\"1\" class=\"dataframe\">\n",
       "  <thead>\n",
       "    <tr style=\"text-align: right;\">\n",
       "      <th></th>\n",
       "      <th>Outliers %</th>\n",
       "    </tr>\n",
       "  </thead>\n",
       "  <tbody>\n",
       "    <tr>\n",
       "      <th>Age</th>\n",
       "      <td>5.63</td>\n",
       "    </tr>\n",
       "    <tr>\n",
       "      <th>Distance</th>\n",
       "      <td>2.03</td>\n",
       "    </tr>\n",
       "    <tr>\n",
       "      <th>Engineer</th>\n",
       "      <td>24.55</td>\n",
       "    </tr>\n",
       "    <tr>\n",
       "      <th>Gender</th>\n",
       "      <td>0.00</td>\n",
       "    </tr>\n",
       "    <tr>\n",
       "      <th>MBA</th>\n",
       "      <td>0.00</td>\n",
       "    </tr>\n",
       "    <tr>\n",
       "      <th>Salary</th>\n",
       "      <td>13.29</td>\n",
       "    </tr>\n",
       "    <tr>\n",
       "      <th>Transport</th>\n",
       "      <td>0.00</td>\n",
       "    </tr>\n",
       "    <tr>\n",
       "      <th>Work Exp</th>\n",
       "      <td>8.56</td>\n",
       "    </tr>\n",
       "    <tr>\n",
       "      <th>license</th>\n",
       "      <td>23.42</td>\n",
       "    </tr>\n",
       "  </tbody>\n",
       "</table>\n",
       "</div>"
      ],
      "text/plain": [
       "           Outliers %\n",
       "Age              5.63\n",
       "Distance         2.03\n",
       "Engineer        24.55\n",
       "Gender           0.00\n",
       "MBA              0.00\n",
       "Salary          13.29\n",
       "Transport        0.00\n",
       "Work Exp         8.56\n",
       "license         23.42"
      ]
     },
     "execution_count": 1029,
     "metadata": {},
     "output_type": "execute_result"
    }
   ],
   "source": [
    "Q1 = df.quantile(0.25)\n",
    "Q3 = df.quantile(0.75)\n",
    "IQR = Q3 - Q1\n",
    "pd.DataFrame((((df < (Q1 - 1.5 * IQR)) | (df > (Q3 + 1.5 * IQR))).sum()/df.shape[0]*100).round(2),columns=['Outliers %'])"
   ]
  },
  {
   "cell_type": "markdown",
   "id": "2a29cda3",
   "metadata": {},
   "source": [
    "# Treating the outliers."
   ]
  },
  {
   "cell_type": "code",
   "execution_count": 1030,
   "id": "5053dbf1",
   "metadata": {},
   "outputs": [],
   "source": [
    "def remove_outlier(col):\n",
    "    sorted(col)\n",
    "    Q1,Q3=np.percentile(col,[25,75])\n",
    "    IQR=Q3-Q1\n",
    "    lower_range= Q1-(1.5 * IQR)\n",
    "    upper_range= Q3+(1.5 * IQR)\n",
    "    return lower_range, upper_range"
   ]
  },
  {
   "cell_type": "code",
   "execution_count": 1031,
   "id": "af678b3a",
   "metadata": {
    "scrolled": false
   },
   "outputs": [
    {
     "name": "stdout",
     "output_type": "stream",
     "text": [
      "Lower Range : 17.5 \n",
      "Upper Range : 37.5\n",
      "\n",
      "Lower Range : 1.0 \n",
      "Upper Range : 1.0\n",
      "\n",
      "Lower Range : -1.5 \n",
      "Upper Range : 2.5\n",
      "\n",
      "Lower Range : -4.5 \n",
      "Upper Range : 15.5\n",
      "\n",
      "Lower Range : 0.9125000000000014 \n",
      "Upper Range : 24.612499999999997\n",
      "\n",
      "Lower Range : 1.8625000000000007 \n",
      "Upper Range : 20.3625\n",
      "\n",
      "Lower Range : 0.0 \n",
      "Upper Range : 0.0\n",
      "\n"
     ]
    }
   ],
   "source": [
    "lr,ur=remove_outlier(df['Age'])\n",
    "print('Lower Range :',lr,'\\nUpper Range :',ur)\n",
    "df['Age']=np.where(df['Age']>ur,ur,df['Age'])\n",
    "df['Age']=np.where(df['Age']<lr,lr,df['Age'])\n",
    "print('')\n",
    "\n",
    "lr,ur=remove_outlier(df['Engineer'])\n",
    "print('Lower Range :',lr,'\\nUpper Range :',ur)\n",
    "df['Engineer']=np.where(df['Engineer']>ur,ur,df['Engineer'])\n",
    "df['Engineer']=np.where(df['Engineer']<lr,lr,df['Engineer'])\n",
    "print('')\n",
    "\n",
    "lr,ur=remove_outlier(df['MBA'])\n",
    "print('Lower Range :',lr,'\\nUpper Range :',ur)\n",
    "df['MBA']=np.where(df['MBA']>ur,ur,df['MBA'])\n",
    "df['MBA']=np.where(df['MBA']<lr,lr,df['MBA'])\n",
    "print('')\n",
    "\n",
    "lr,ur=remove_outlier(df['Work Exp'])\n",
    "print('Lower Range :',lr,'\\nUpper Range :',ur)\n",
    "df['Work Exp']=np.where(df['Work Exp']>ur,ur,df['Work Exp'])\n",
    "df['Work Exp']=np.where(df['Work Exp']<lr,lr,df['Work Exp'])\n",
    "print('')\n",
    "\n",
    "lr,ur=remove_outlier(df['Salary'])\n",
    "print('Lower Range :',lr,'\\nUpper Range :',ur)\n",
    "df['Salary']=np.where(df['Salary']>ur,ur,df['Salary'])\n",
    "df['Salary']=np.where(df['Salary']<lr,lr,df['Salary'])\n",
    "print('')\n",
    "\n",
    "lr,ur=remove_outlier(df['Distance'])\n",
    "print('Lower Range :',lr,'\\nUpper Range :',ur)\n",
    "df['Distance']=np.where(df['Distance']>ur,ur,df['Distance'])\n",
    "df['Distance']=np.where(df['Distance']<lr,lr,df['Distance'])\n",
    "print('')\n",
    "\n",
    "lr,ur=remove_outlier(df['license'])\n",
    "print('Lower Range :',lr,'\\nUpper Range :',ur)\n",
    "df['license']=np.where(df['license']>ur,ur,df['license'])\n",
    "df['license']=np.where(df['license']<lr,lr,df['license'])\n",
    "print('')"
   ]
  },
  {
   "cell_type": "code",
   "execution_count": 1032,
   "id": "78c132a9",
   "metadata": {
    "scrolled": false
   },
   "outputs": [
    {
     "data": {
      "image/png": "[encoded data removed]",
      "text/plain": [
       "<Figure size 1080x1080 with 1 Axes>"
      ]
     },
     "metadata": {
      "needs_background": "light"
     },
     "output_type": "display_data"
    }
   ],
   "source": [
    "plt.figure(figsize=(15,15))\n",
    "df[['Age','Engineer','MBA','Work Exp','Salary','Distance','license']].boxplot(vert=1)\n",
    "plt.show()"
   ]
  },
  {
   "cell_type": "markdown",
   "id": "49b32fa2",
   "metadata": {},
   "source": [
    "#### Skew"
   ]
  },
  {
   "cell_type": "code",
   "execution_count": 1033,
   "id": "2688e988",
   "metadata": {},
   "outputs": [
    {
     "data": {
      "text/plain": [
       "Age         0.710979\n",
       "Engineer    0.000000\n",
       "MBA         1.144763\n",
       "Work Exp    0.843610\n",
       "Salary      0.800178\n",
       "Distance    0.423135\n",
       "license     0.000000\n",
       "dtype: float64"
      ]
     },
     "execution_count": 1033,
     "metadata": {},
     "output_type": "execute_result"
    }
   ],
   "source": [
    "df.skew(axis = 0, skipna = True)"
   ]
  },
  {
   "cell_type": "code",
   "execution_count": null,
   "id": "e16d7e47",
   "metadata": {},
   "outputs": [],
   "source": []
  },
  {
   "cell_type": "markdown",
   "id": "8b5054ca",
   "metadata": {},
   "source": [
    "# 1.3) Encode the data (having string values) for Modelling(2 pts). Is Scaling necessary here or not?(2 pts), Data Split: Split the data into train and test (70:30) (2 pts)."
   ]
  },
  {
   "cell_type": "code",
   "execution_count": 1034,
   "id": "591bff2f",
   "metadata": {},
   "outputs": [
    {
     "data": {
      "text/html": [
       "<div>\n",
       "<style scoped>\n",
       "    .dataframe tbody tr th:only-of-type {\n",
       "        vertical-align: middle;\n",
       "    }\n",
       "\n",
       "    .dataframe tbody tr th {\n",
       "        vertical-align: top;\n",
       "    }\n",
       "\n",
       "    .dataframe thead th {\n",
       "        text-align: right;\n",
       "    }\n",
       "</style>\n",
       "<table border=\"1\" class=\"dataframe\">\n",
       "  <thead>\n",
       "    <tr style=\"text-align: right;\">\n",
       "      <th></th>\n",
       "      <th>count</th>\n",
       "      <th>mean</th>\n",
       "      <th>std</th>\n",
       "      <th>min</th>\n",
       "      <th>25%</th>\n",
       "      <th>50%</th>\n",
       "      <th>75%</th>\n",
       "      <th>max</th>\n",
       "    </tr>\n",
       "  </thead>\n",
       "  <tbody>\n",
       "    <tr>\n",
       "      <th>Age</th>\n",
       "      <td>444.0</td>\n",
       "      <td>27.652</td>\n",
       "      <td>4.168</td>\n",
       "      <td>18.0</td>\n",
       "      <td>25.0</td>\n",
       "      <td>27.0</td>\n",
       "      <td>30.000</td>\n",
       "      <td>37.500</td>\n",
       "    </tr>\n",
       "    <tr>\n",
       "      <th>Engineer</th>\n",
       "      <td>444.0</td>\n",
       "      <td>1.000</td>\n",
       "      <td>0.000</td>\n",
       "      <td>1.0</td>\n",
       "      <td>1.0</td>\n",
       "      <td>1.0</td>\n",
       "      <td>1.000</td>\n",
       "      <td>1.000</td>\n",
       "    </tr>\n",
       "    <tr>\n",
       "      <th>MBA</th>\n",
       "      <td>444.0</td>\n",
       "      <td>0.252</td>\n",
       "      <td>0.435</td>\n",
       "      <td>0.0</td>\n",
       "      <td>0.0</td>\n",
       "      <td>0.0</td>\n",
       "      <td>1.000</td>\n",
       "      <td>1.000</td>\n",
       "    </tr>\n",
       "    <tr>\n",
       "      <th>Work Exp</th>\n",
       "      <td>444.0</td>\n",
       "      <td>5.982</td>\n",
       "      <td>4.322</td>\n",
       "      <td>0.0</td>\n",
       "      <td>3.0</td>\n",
       "      <td>5.0</td>\n",
       "      <td>8.000</td>\n",
       "      <td>15.500</td>\n",
       "    </tr>\n",
       "    <tr>\n",
       "      <th>Salary</th>\n",
       "      <td>444.0</td>\n",
       "      <td>14.140</td>\n",
       "      <td>5.323</td>\n",
       "      <td>6.5</td>\n",
       "      <td>9.8</td>\n",
       "      <td>13.6</td>\n",
       "      <td>15.725</td>\n",
       "      <td>24.612</td>\n",
       "    </tr>\n",
       "    <tr>\n",
       "      <th>Distance</th>\n",
       "      <td>444.0</td>\n",
       "      <td>11.298</td>\n",
       "      <td>3.536</td>\n",
       "      <td>3.2</td>\n",
       "      <td>8.8</td>\n",
       "      <td>11.0</td>\n",
       "      <td>13.425</td>\n",
       "      <td>20.362</td>\n",
       "    </tr>\n",
       "    <tr>\n",
       "      <th>license</th>\n",
       "      <td>444.0</td>\n",
       "      <td>0.000</td>\n",
       "      <td>0.000</td>\n",
       "      <td>0.0</td>\n",
       "      <td>0.0</td>\n",
       "      <td>0.0</td>\n",
       "      <td>0.000</td>\n",
       "      <td>0.000</td>\n",
       "    </tr>\n",
       "  </tbody>\n",
       "</table>\n",
       "</div>"
      ],
      "text/plain": [
       "          count    mean    std   min   25%   50%     75%     max\n",
       "Age       444.0  27.652  4.168  18.0  25.0  27.0  30.000  37.500\n",
       "Engineer  444.0   1.000  0.000   1.0   1.0   1.0   1.000   1.000\n",
       "MBA       444.0   0.252  0.435   0.0   0.0   0.0   1.000   1.000\n",
       "Work Exp  444.0   5.982  4.322   0.0   3.0   5.0   8.000  15.500\n",
       "Salary    444.0  14.140  5.323   6.5   9.8  13.6  15.725  24.612\n",
       "Distance  444.0  11.298  3.536   3.2   8.8  11.0  13.425  20.362\n",
       "license   444.0   0.000  0.000   0.0   0.0   0.0   0.000   0.000"
      ]
     },
     "execution_count": 1034,
     "metadata": {},
     "output_type": "execute_result"
    }
   ],
   "source": [
    "round(df.describe().T,3)"
   ]
  },
  {
   "cell_type": "code",
   "execution_count": 1035,
   "id": "24ec4508",
   "metadata": {},
   "outputs": [
    {
     "data": {
      "text/plain": [
       "Age          float64\n",
       "Gender        object\n",
       "Engineer     float64\n",
       "MBA          float64\n",
       "Work Exp     float64\n",
       "Salary       float64\n",
       "Distance     float64\n",
       "license      float64\n",
       "Transport     object\n",
       "dtype: object"
      ]
     },
     "execution_count": 1035,
     "metadata": {},
     "output_type": "execute_result"
    }
   ],
   "source": [
    "df.dtypes"
   ]
  },
  {
   "cell_type": "markdown",
   "id": "a1e508b6",
   "metadata": {},
   "source": [
    "# Convert all objects to categorical codes"
   ]
  },
  {
   "cell_type": "code",
   "execution_count": 1036,
   "id": "f665d6e1",
   "metadata": {},
   "outputs": [
    {
     "data": {
      "text/html": [
       "<div>\n",
       "<style scoped>\n",
       "    .dataframe tbody tr th:only-of-type {\n",
       "        vertical-align: middle;\n",
       "    }\n",
       "\n",
       "    .dataframe tbody tr th {\n",
       "        vertical-align: top;\n",
       "    }\n",
       "\n",
       "    .dataframe thead th {\n",
       "        text-align: right;\n",
       "    }\n",
       "</style>\n",
       "<table border=\"1\" class=\"dataframe\">\n",
       "  <thead>\n",
       "    <tr style=\"text-align: right;\">\n",
       "      <th></th>\n",
       "      <th>Age</th>\n",
       "      <th>Gender</th>\n",
       "      <th>Engineer</th>\n",
       "      <th>MBA</th>\n",
       "      <th>Work Exp</th>\n",
       "      <th>Salary</th>\n",
       "      <th>Distance</th>\n",
       "      <th>license</th>\n",
       "      <th>Transport</th>\n",
       "    </tr>\n",
       "  </thead>\n",
       "  <tbody>\n",
       "    <tr>\n",
       "      <th>0</th>\n",
       "      <td>28.0</td>\n",
       "      <td>1</td>\n",
       "      <td>1.0</td>\n",
       "      <td>0.0</td>\n",
       "      <td>4.0</td>\n",
       "      <td>14.3</td>\n",
       "      <td>3.2</td>\n",
       "      <td>0.0</td>\n",
       "      <td>Public Transport</td>\n",
       "    </tr>\n",
       "    <tr>\n",
       "      <th>1</th>\n",
       "      <td>23.0</td>\n",
       "      <td>0</td>\n",
       "      <td>1.0</td>\n",
       "      <td>0.0</td>\n",
       "      <td>4.0</td>\n",
       "      <td>8.3</td>\n",
       "      <td>3.3</td>\n",
       "      <td>0.0</td>\n",
       "      <td>Public Transport</td>\n",
       "    </tr>\n",
       "    <tr>\n",
       "      <th>2</th>\n",
       "      <td>29.0</td>\n",
       "      <td>1</td>\n",
       "      <td>1.0</td>\n",
       "      <td>0.0</td>\n",
       "      <td>7.0</td>\n",
       "      <td>13.4</td>\n",
       "      <td>4.1</td>\n",
       "      <td>0.0</td>\n",
       "      <td>Public Transport</td>\n",
       "    </tr>\n",
       "    <tr>\n",
       "      <th>3</th>\n",
       "      <td>28.0</td>\n",
       "      <td>0</td>\n",
       "      <td>1.0</td>\n",
       "      <td>1.0</td>\n",
       "      <td>5.0</td>\n",
       "      <td>13.4</td>\n",
       "      <td>4.5</td>\n",
       "      <td>0.0</td>\n",
       "      <td>Public Transport</td>\n",
       "    </tr>\n",
       "    <tr>\n",
       "      <th>4</th>\n",
       "      <td>27.0</td>\n",
       "      <td>1</td>\n",
       "      <td>1.0</td>\n",
       "      <td>0.0</td>\n",
       "      <td>4.0</td>\n",
       "      <td>13.4</td>\n",
       "      <td>4.6</td>\n",
       "      <td>0.0</td>\n",
       "      <td>Public Transport</td>\n",
       "    </tr>\n",
       "    <tr>\n",
       "      <th>5</th>\n",
       "      <td>26.0</td>\n",
       "      <td>1</td>\n",
       "      <td>1.0</td>\n",
       "      <td>0.0</td>\n",
       "      <td>4.0</td>\n",
       "      <td>12.3</td>\n",
       "      <td>4.8</td>\n",
       "      <td>0.0</td>\n",
       "      <td>Public Transport</td>\n",
       "    </tr>\n",
       "    <tr>\n",
       "      <th>6</th>\n",
       "      <td>28.0</td>\n",
       "      <td>1</td>\n",
       "      <td>1.0</td>\n",
       "      <td>0.0</td>\n",
       "      <td>5.0</td>\n",
       "      <td>14.4</td>\n",
       "      <td>5.1</td>\n",
       "      <td>0.0</td>\n",
       "      <td>Private Transport</td>\n",
       "    </tr>\n",
       "    <tr>\n",
       "      <th>7</th>\n",
       "      <td>26.0</td>\n",
       "      <td>0</td>\n",
       "      <td>1.0</td>\n",
       "      <td>0.0</td>\n",
       "      <td>3.0</td>\n",
       "      <td>10.5</td>\n",
       "      <td>5.1</td>\n",
       "      <td>0.0</td>\n",
       "      <td>Public Transport</td>\n",
       "    </tr>\n",
       "    <tr>\n",
       "      <th>8</th>\n",
       "      <td>22.0</td>\n",
       "      <td>1</td>\n",
       "      <td>1.0</td>\n",
       "      <td>0.0</td>\n",
       "      <td>1.0</td>\n",
       "      <td>7.5</td>\n",
       "      <td>5.1</td>\n",
       "      <td>0.0</td>\n",
       "      <td>Public Transport</td>\n",
       "    </tr>\n",
       "    <tr>\n",
       "      <th>9</th>\n",
       "      <td>27.0</td>\n",
       "      <td>1</td>\n",
       "      <td>1.0</td>\n",
       "      <td>0.0</td>\n",
       "      <td>4.0</td>\n",
       "      <td>13.5</td>\n",
       "      <td>5.2</td>\n",
       "      <td>0.0</td>\n",
       "      <td>Public Transport</td>\n",
       "    </tr>\n",
       "  </tbody>\n",
       "</table>\n",
       "</div>"
      ],
      "text/plain": [
       "    Age  Gender  Engineer  MBA  Work Exp  Salary  Distance  license  \\\n",
       "0  28.0       1       1.0  0.0       4.0    14.3       3.2      0.0   \n",
       "1  23.0       0       1.0  0.0       4.0     8.3       3.3      0.0   \n",
       "2  29.0       1       1.0  0.0       7.0    13.4       4.1      0.0   \n",
       "3  28.0       0       1.0  1.0       5.0    13.4       4.5      0.0   \n",
       "4  27.0       1       1.0  0.0       4.0    13.4       4.6      0.0   \n",
       "5  26.0       1       1.0  0.0       4.0    12.3       4.8      0.0   \n",
       "6  28.0       1       1.0  0.0       5.0    14.4       5.1      0.0   \n",
       "7  26.0       0       1.0  0.0       3.0    10.5       5.1      0.0   \n",
       "8  22.0       1       1.0  0.0       1.0     7.5       5.1      0.0   \n",
       "9  27.0       1       1.0  0.0       4.0    13.5       5.2      0.0   \n",
       "\n",
       "           Transport  \n",
       "0   Public Transport  \n",
       "1   Public Transport  \n",
       "2   Public Transport  \n",
       "3   Public Transport  \n",
       "4   Public Transport  \n",
       "5   Public Transport  \n",
       "6  Private Transport  \n",
       "7   Public Transport  \n",
       "8   Public Transport  \n",
       "9   Public Transport  "
      ]
     },
     "execution_count": 1036,
     "metadata": {},
     "output_type": "execute_result"
    }
   ],
   "source": [
    "gen=[]\n",
    "for x in df['Gender']:\n",
    "    if x==\"Male\":\n",
    "        gen.append(1)\n",
    "    else:\n",
    "        gen.append(0)\n",
    "df['Gender']=gen\n",
    "df.head(10)"
   ]
  },
  {
   "cell_type": "code",
   "execution_count": 1037,
   "id": "fd3badf1",
   "metadata": {},
   "outputs": [
    {
     "data": {
      "text/html": [
       "<div>\n",
       "<style scoped>\n",
       "    .dataframe tbody tr th:only-of-type {\n",
       "        vertical-align: middle;\n",
       "    }\n",
       "\n",
       "    .dataframe tbody tr th {\n",
       "        vertical-align: top;\n",
       "    }\n",
       "\n",
       "    .dataframe thead th {\n",
       "        text-align: right;\n",
       "    }\n",
       "</style>\n",
       "<table border=\"1\" class=\"dataframe\">\n",
       "  <thead>\n",
       "    <tr style=\"text-align: right;\">\n",
       "      <th></th>\n",
       "      <th>Age</th>\n",
       "      <th>Gender</th>\n",
       "      <th>Engineer</th>\n",
       "      <th>MBA</th>\n",
       "      <th>Work Exp</th>\n",
       "      <th>Salary</th>\n",
       "      <th>Distance</th>\n",
       "      <th>license</th>\n",
       "      <th>Transport</th>\n",
       "    </tr>\n",
       "  </thead>\n",
       "  <tbody>\n",
       "    <tr>\n",
       "      <th>0</th>\n",
       "      <td>28.0</td>\n",
       "      <td>1</td>\n",
       "      <td>1.0</td>\n",
       "      <td>0.0</td>\n",
       "      <td>4.0</td>\n",
       "      <td>14.3</td>\n",
       "      <td>3.2</td>\n",
       "      <td>0.0</td>\n",
       "      <td>1</td>\n",
       "    </tr>\n",
       "    <tr>\n",
       "      <th>1</th>\n",
       "      <td>23.0</td>\n",
       "      <td>0</td>\n",
       "      <td>1.0</td>\n",
       "      <td>0.0</td>\n",
       "      <td>4.0</td>\n",
       "      <td>8.3</td>\n",
       "      <td>3.3</td>\n",
       "      <td>0.0</td>\n",
       "      <td>1</td>\n",
       "    </tr>\n",
       "    <tr>\n",
       "      <th>2</th>\n",
       "      <td>29.0</td>\n",
       "      <td>1</td>\n",
       "      <td>1.0</td>\n",
       "      <td>0.0</td>\n",
       "      <td>7.0</td>\n",
       "      <td>13.4</td>\n",
       "      <td>4.1</td>\n",
       "      <td>0.0</td>\n",
       "      <td>1</td>\n",
       "    </tr>\n",
       "    <tr>\n",
       "      <th>3</th>\n",
       "      <td>28.0</td>\n",
       "      <td>0</td>\n",
       "      <td>1.0</td>\n",
       "      <td>1.0</td>\n",
       "      <td>5.0</td>\n",
       "      <td>13.4</td>\n",
       "      <td>4.5</td>\n",
       "      <td>0.0</td>\n",
       "      <td>1</td>\n",
       "    </tr>\n",
       "    <tr>\n",
       "      <th>4</th>\n",
       "      <td>27.0</td>\n",
       "      <td>1</td>\n",
       "      <td>1.0</td>\n",
       "      <td>0.0</td>\n",
       "      <td>4.0</td>\n",
       "      <td>13.4</td>\n",
       "      <td>4.6</td>\n",
       "      <td>0.0</td>\n",
       "      <td>1</td>\n",
       "    </tr>\n",
       "    <tr>\n",
       "      <th>5</th>\n",
       "      <td>26.0</td>\n",
       "      <td>1</td>\n",
       "      <td>1.0</td>\n",
       "      <td>0.0</td>\n",
       "      <td>4.0</td>\n",
       "      <td>12.3</td>\n",
       "      <td>4.8</td>\n",
       "      <td>0.0</td>\n",
       "      <td>1</td>\n",
       "    </tr>\n",
       "    <tr>\n",
       "      <th>6</th>\n",
       "      <td>28.0</td>\n",
       "      <td>1</td>\n",
       "      <td>1.0</td>\n",
       "      <td>0.0</td>\n",
       "      <td>5.0</td>\n",
       "      <td>14.4</td>\n",
       "      <td>5.1</td>\n",
       "      <td>0.0</td>\n",
       "      <td>0</td>\n",
       "    </tr>\n",
       "    <tr>\n",
       "      <th>7</th>\n",
       "      <td>26.0</td>\n",
       "      <td>0</td>\n",
       "      <td>1.0</td>\n",
       "      <td>0.0</td>\n",
       "      <td>3.0</td>\n",
       "      <td>10.5</td>\n",
       "      <td>5.1</td>\n",
       "      <td>0.0</td>\n",
       "      <td>1</td>\n",
       "    </tr>\n",
       "    <tr>\n",
       "      <th>8</th>\n",
       "      <td>22.0</td>\n",
       "      <td>1</td>\n",
       "      <td>1.0</td>\n",
       "      <td>0.0</td>\n",
       "      <td>1.0</td>\n",
       "      <td>7.5</td>\n",
       "      <td>5.1</td>\n",
       "      <td>0.0</td>\n",
       "      <td>1</td>\n",
       "    </tr>\n",
       "    <tr>\n",
       "      <th>9</th>\n",
       "      <td>27.0</td>\n",
       "      <td>1</td>\n",
       "      <td>1.0</td>\n",
       "      <td>0.0</td>\n",
       "      <td>4.0</td>\n",
       "      <td>13.5</td>\n",
       "      <td>5.2</td>\n",
       "      <td>0.0</td>\n",
       "      <td>1</td>\n",
       "    </tr>\n",
       "  </tbody>\n",
       "</table>\n",
       "</div>"
      ],
      "text/plain": [
       "    Age  Gender  Engineer  MBA  Work Exp  Salary  Distance  license  Transport\n",
       "0  28.0       1       1.0  0.0       4.0    14.3       3.2      0.0          1\n",
       "1  23.0       0       1.0  0.0       4.0     8.3       3.3      0.0          1\n",
       "2  29.0       1       1.0  0.0       7.0    13.4       4.1      0.0          1\n",
       "3  28.0       0       1.0  1.0       5.0    13.4       4.5      0.0          1\n",
       "4  27.0       1       1.0  0.0       4.0    13.4       4.6      0.0          1\n",
       "5  26.0       1       1.0  0.0       4.0    12.3       4.8      0.0          1\n",
       "6  28.0       1       1.0  0.0       5.0    14.4       5.1      0.0          0\n",
       "7  26.0       0       1.0  0.0       3.0    10.5       5.1      0.0          1\n",
       "8  22.0       1       1.0  0.0       1.0     7.5       5.1      0.0          1\n",
       "9  27.0       1       1.0  0.0       4.0    13.5       5.2      0.0          1"
      ]
     },
     "execution_count": 1037,
     "metadata": {},
     "output_type": "execute_result"
    }
   ],
   "source": [
    "tran=[]\n",
    "for x in df['Transport']:\n",
    "    if x==\"Public Transport\":\n",
    "        tran.append(1)\n",
    "    else:\n",
    "        tran.append(0)\n",
    "df['Transport']=tran\n",
    "df.head(10)"
   ]
  },
  {
   "cell_type": "code",
   "execution_count": 1038,
   "id": "9e2027f2",
   "metadata": {},
   "outputs": [
    {
     "name": "stdout",
     "output_type": "stream",
     "text": [
      "<class 'pandas.core.frame.DataFrame'>\n",
      "RangeIndex: 444 entries, 0 to 443\n",
      "Data columns (total 9 columns):\n",
      " #   Column     Non-Null Count  Dtype  \n",
      "---  ------     --------------  -----  \n",
      " 0   Age        444 non-null    float64\n",
      " 1   Gender     444 non-null    int64  \n",
      " 2   Engineer   444 non-null    float64\n",
      " 3   MBA        444 non-null    float64\n",
      " 4   Work Exp   444 non-null    float64\n",
      " 5   Salary     444 non-null    float64\n",
      " 6   Distance   444 non-null    float64\n",
      " 7   license    444 non-null    float64\n",
      " 8   Transport  444 non-null    int64  \n",
      "dtypes: float64(7), int64(2)\n",
      "memory usage: 31.3 KB\n"
     ]
    }
   ],
   "source": [
    "df.info()"
   ]
  },
  {
   "cell_type": "markdown",
   "id": "33e82b79",
   "metadata": {},
   "source": [
    "# Proportion of 1s and 0s"
   ]
  },
  {
   "cell_type": "code",
   "execution_count": 1039,
   "id": "6bf976ca",
   "metadata": {},
   "outputs": [
    {
     "data": {
      "text/plain": [
       "1    0.675676\n",
       "0    0.324324\n",
       "Name: Transport, dtype: float64"
      ]
     },
     "execution_count": 1039,
     "metadata": {},
     "output_type": "execute_result"
    }
   ],
   "source": [
    "df.Transport.value_counts(normalize=True)"
   ]
  },
  {
   "cell_type": "code",
   "execution_count": 1040,
   "id": "8b6951e5",
   "metadata": {},
   "outputs": [],
   "source": [
    "x=df.iloc[:,:-1]\n",
    "y=df.iloc[:,-1]"
   ]
  },
  {
   "cell_type": "code",
   "execution_count": 1041,
   "id": "e1ad466f",
   "metadata": {},
   "outputs": [
    {
     "data": {
      "text/html": [
       "<div>\n",
       "<style scoped>\n",
       "    .dataframe tbody tr th:only-of-type {\n",
       "        vertical-align: middle;\n",
       "    }\n",
       "\n",
       "    .dataframe tbody tr th {\n",
       "        vertical-align: top;\n",
       "    }\n",
       "\n",
       "    .dataframe thead th {\n",
       "        text-align: right;\n",
       "    }\n",
       "</style>\n",
       "<table border=\"1\" class=\"dataframe\">\n",
       "  <thead>\n",
       "    <tr style=\"text-align: right;\">\n",
       "      <th></th>\n",
       "      <th>Age</th>\n",
       "      <th>Gender</th>\n",
       "      <th>Engineer</th>\n",
       "      <th>MBA</th>\n",
       "      <th>Work Exp</th>\n",
       "      <th>Salary</th>\n",
       "      <th>Distance</th>\n",
       "      <th>license</th>\n",
       "    </tr>\n",
       "  </thead>\n",
       "  <tbody>\n",
       "    <tr>\n",
       "      <th>0</th>\n",
       "      <td>28.0</td>\n",
       "      <td>1</td>\n",
       "      <td>1.0</td>\n",
       "      <td>0.0</td>\n",
       "      <td>4.0</td>\n",
       "      <td>14.3000</td>\n",
       "      <td>3.2000</td>\n",
       "      <td>0.0</td>\n",
       "    </tr>\n",
       "    <tr>\n",
       "      <th>1</th>\n",
       "      <td>23.0</td>\n",
       "      <td>0</td>\n",
       "      <td>1.0</td>\n",
       "      <td>0.0</td>\n",
       "      <td>4.0</td>\n",
       "      <td>8.3000</td>\n",
       "      <td>3.3000</td>\n",
       "      <td>0.0</td>\n",
       "    </tr>\n",
       "    <tr>\n",
       "      <th>2</th>\n",
       "      <td>29.0</td>\n",
       "      <td>1</td>\n",
       "      <td>1.0</td>\n",
       "      <td>0.0</td>\n",
       "      <td>7.0</td>\n",
       "      <td>13.4000</td>\n",
       "      <td>4.1000</td>\n",
       "      <td>0.0</td>\n",
       "    </tr>\n",
       "    <tr>\n",
       "      <th>3</th>\n",
       "      <td>28.0</td>\n",
       "      <td>0</td>\n",
       "      <td>1.0</td>\n",
       "      <td>1.0</td>\n",
       "      <td>5.0</td>\n",
       "      <td>13.4000</td>\n",
       "      <td>4.5000</td>\n",
       "      <td>0.0</td>\n",
       "    </tr>\n",
       "    <tr>\n",
       "      <th>4</th>\n",
       "      <td>27.0</td>\n",
       "      <td>1</td>\n",
       "      <td>1.0</td>\n",
       "      <td>0.0</td>\n",
       "      <td>4.0</td>\n",
       "      <td>13.4000</td>\n",
       "      <td>4.6000</td>\n",
       "      <td>0.0</td>\n",
       "    </tr>\n",
       "    <tr>\n",
       "      <th>...</th>\n",
       "      <td>...</td>\n",
       "      <td>...</td>\n",
       "      <td>...</td>\n",
       "      <td>...</td>\n",
       "      <td>...</td>\n",
       "      <td>...</td>\n",
       "      <td>...</td>\n",
       "      <td>...</td>\n",
       "    </tr>\n",
       "    <tr>\n",
       "      <th>439</th>\n",
       "      <td>37.5</td>\n",
       "      <td>1</td>\n",
       "      <td>1.0</td>\n",
       "      <td>0.0</td>\n",
       "      <td>15.5</td>\n",
       "      <td>24.6125</td>\n",
       "      <td>20.3625</td>\n",
       "      <td>0.0</td>\n",
       "    </tr>\n",
       "    <tr>\n",
       "      <th>440</th>\n",
       "      <td>37.5</td>\n",
       "      <td>1</td>\n",
       "      <td>1.0</td>\n",
       "      <td>0.0</td>\n",
       "      <td>15.5</td>\n",
       "      <td>24.6125</td>\n",
       "      <td>20.3625</td>\n",
       "      <td>0.0</td>\n",
       "    </tr>\n",
       "    <tr>\n",
       "      <th>441</th>\n",
       "      <td>37.0</td>\n",
       "      <td>1</td>\n",
       "      <td>1.0</td>\n",
       "      <td>0.0</td>\n",
       "      <td>15.5</td>\n",
       "      <td>24.6125</td>\n",
       "      <td>20.3625</td>\n",
       "      <td>0.0</td>\n",
       "    </tr>\n",
       "    <tr>\n",
       "      <th>442</th>\n",
       "      <td>37.0</td>\n",
       "      <td>1</td>\n",
       "      <td>1.0</td>\n",
       "      <td>0.0</td>\n",
       "      <td>15.5</td>\n",
       "      <td>24.6125</td>\n",
       "      <td>20.3625</td>\n",
       "      <td>0.0</td>\n",
       "    </tr>\n",
       "    <tr>\n",
       "      <th>443</th>\n",
       "      <td>37.5</td>\n",
       "      <td>1</td>\n",
       "      <td>1.0</td>\n",
       "      <td>1.0</td>\n",
       "      <td>15.5</td>\n",
       "      <td>24.6125</td>\n",
       "      <td>20.3625</td>\n",
       "      <td>0.0</td>\n",
       "    </tr>\n",
       "  </tbody>\n",
       "</table>\n",
       "<p>444 rows × 8 columns</p>\n",
       "</div>"
      ],
      "text/plain": [
       "      Age  Gender  Engineer  MBA  Work Exp   Salary  Distance  license\n",
       "0    28.0       1       1.0  0.0       4.0  14.3000    3.2000      0.0\n",
       "1    23.0       0       1.0  0.0       4.0   8.3000    3.3000      0.0\n",
       "2    29.0       1       1.0  0.0       7.0  13.4000    4.1000      0.0\n",
       "3    28.0       0       1.0  1.0       5.0  13.4000    4.5000      0.0\n",
       "4    27.0       1       1.0  0.0       4.0  13.4000    4.6000      0.0\n",
       "..    ...     ...       ...  ...       ...      ...       ...      ...\n",
       "439  37.5       1       1.0  0.0      15.5  24.6125   20.3625      0.0\n",
       "440  37.5       1       1.0  0.0      15.5  24.6125   20.3625      0.0\n",
       "441  37.0       1       1.0  0.0      15.5  24.6125   20.3625      0.0\n",
       "442  37.0       1       1.0  0.0      15.5  24.6125   20.3625      0.0\n",
       "443  37.5       1       1.0  1.0      15.5  24.6125   20.3625      0.0\n",
       "\n",
       "[444 rows x 8 columns]"
      ]
     },
     "execution_count": 1041,
     "metadata": {},
     "output_type": "execute_result"
    }
   ],
   "source": [
    "x"
   ]
  },
  {
   "cell_type": "code",
   "execution_count": 1042,
   "id": "d09116d6",
   "metadata": {},
   "outputs": [
    {
     "data": {
      "text/plain": [
       "0      1\n",
       "1      1\n",
       "2      1\n",
       "3      1\n",
       "4      1\n",
       "      ..\n",
       "439    0\n",
       "440    0\n",
       "441    0\n",
       "442    0\n",
       "443    0\n",
       "Name: Transport, Length: 444, dtype: int64"
      ]
     },
     "execution_count": 1042,
     "metadata": {},
     "output_type": "execute_result"
    }
   ],
   "source": [
    "y"
   ]
  },
  {
   "cell_type": "markdown",
   "id": "bdb2dc08",
   "metadata": {},
   "source": [
    "# Split data into training and test set"
   ]
  },
  {
   "cell_type": "code",
   "execution_count": 1043,
   "id": "88a120f7",
   "metadata": {},
   "outputs": [
    {
     "data": {
      "text/plain": [
       "('x_test,y_train,',\n",
       " 'y_test=',\n",
       " 'train_test_split(x,y,test_size',\n",
       " '=.30,random_state',\n",
       " '=',\n",
       " '42)')"
      ]
     },
     "execution_count": 1043,
     "metadata": {},
     "output_type": "execute_result"
    }
   ],
   "source": [
    "# Split X and Y into 70 :30 ratio\n",
    "\n",
    ", x_test,y_train, y_test= train_test_split(x,y,test_size =.30,random_state = 42)"
   ]
  },
  {
   "cell_type": "markdown",
   "id": "59c95230",
   "metadata": {},
   "source": [
    "# Check the dimensions of the training and test data"
   ]
  },
  {
   "cell_type": "code",
   "execution_count": 1044,
   "id": "d729fa05",
   "metadata": {},
   "outputs": [
    {
     "name": "stdout",
     "output_type": "stream",
     "text": [
      "x_train (310, 8)\n",
      "x_test (134, 8)\n",
      "y_train (310,)\n",
      "y_test (134,)\n"
     ]
    }
   ],
   "source": [
    "print('x_train',X_train.shape)\n",
    "print('x_test',X_test.shape)\n",
    "print('y_train',Y_train.shape)\n",
    "print('y_test',Y_test.shape)"
   ]
  },
  {
   "cell_type": "markdown",
   "id": "7a45b1f3",
   "metadata": {},
   "source": [
    "# Scaling\n",
    "We need to do scaling before using distance based models. Standard Scaling , or Min-Max scaling either one of these can used."
   ]
  },
  {
   "cell_type": "code",
   "execution_count": 1051,
   "id": "926a2d73",
   "metadata": {},
   "outputs": [
    {
     "data": {
      "text/html": [
       "<div>\n",
       "<style scoped>\n",
       "    .dataframe tbody tr th:only-of-type {\n",
       "        vertical-align: middle;\n",
       "    }\n",
       "\n",
       "    .dataframe tbody tr th {\n",
       "        vertical-align: top;\n",
       "    }\n",
       "\n",
       "    .dataframe thead th {\n",
       "        text-align: right;\n",
       "    }\n",
       "</style>\n",
       "<table border=\"1\" class=\"dataframe\">\n",
       "  <thead>\n",
       "    <tr style=\"text-align: right;\">\n",
       "      <th></th>\n",
       "      <th>Age</th>\n",
       "      <th>Gender</th>\n",
       "      <th>Engineer</th>\n",
       "      <th>MBA</th>\n",
       "      <th>Work Exp</th>\n",
       "      <th>Salary</th>\n",
       "      <th>Distance</th>\n",
       "      <th>license</th>\n",
       "    </tr>\n",
       "  </thead>\n",
       "  <tbody>\n",
       "    <tr>\n",
       "      <th>201</th>\n",
       "      <td>29.0</td>\n",
       "      <td>1</td>\n",
       "      <td>1.0</td>\n",
       "      <td>0.0</td>\n",
       "      <td>5.0</td>\n",
       "      <td>15.9</td>\n",
       "      <td>10.5</td>\n",
       "      <td>0.0</td>\n",
       "    </tr>\n",
       "    <tr>\n",
       "      <th>386</th>\n",
       "      <td>27.0</td>\n",
       "      <td>1</td>\n",
       "      <td>1.0</td>\n",
       "      <td>1.0</td>\n",
       "      <td>6.0</td>\n",
       "      <td>12.9</td>\n",
       "      <td>15.6</td>\n",
       "      <td>0.0</td>\n",
       "    </tr>\n",
       "    <tr>\n",
       "      <th>329</th>\n",
       "      <td>27.0</td>\n",
       "      <td>1</td>\n",
       "      <td>1.0</td>\n",
       "      <td>0.0</td>\n",
       "      <td>6.0</td>\n",
       "      <td>12.9</td>\n",
       "      <td>13.3</td>\n",
       "      <td>0.0</td>\n",
       "    </tr>\n",
       "    <tr>\n",
       "      <th>249</th>\n",
       "      <td>23.0</td>\n",
       "      <td>1</td>\n",
       "      <td>1.0</td>\n",
       "      <td>0.0</td>\n",
       "      <td>0.0</td>\n",
       "      <td>6.9</td>\n",
       "      <td>11.7</td>\n",
       "      <td>0.0</td>\n",
       "    </tr>\n",
       "    <tr>\n",
       "      <th>349</th>\n",
       "      <td>30.0</td>\n",
       "      <td>1</td>\n",
       "      <td>1.0</td>\n",
       "      <td>0.0</td>\n",
       "      <td>7.0</td>\n",
       "      <td>14.9</td>\n",
       "      <td>14.0</td>\n",
       "      <td>0.0</td>\n",
       "    </tr>\n",
       "  </tbody>\n",
       "</table>\n",
       "</div>"
      ],
      "text/plain": [
       "      Age  Gender  Engineer  MBA  Work Exp  Salary  Distance  license\n",
       "201  29.0       1       1.0  0.0       5.0    15.9      10.5      0.0\n",
       "386  27.0       1       1.0  1.0       6.0    12.9      15.6      0.0\n",
       "329  27.0       1       1.0  0.0       6.0    12.9      13.3      0.0\n",
       "249  23.0       1       1.0  0.0       0.0     6.9      11.7      0.0\n",
       "349  30.0       1       1.0  0.0       7.0    14.9      14.0      0.0"
      ]
     },
     "execution_count": 1051,
     "metadata": {},
     "output_type": "execute_result"
    }
   ],
   "source": [
    "X_train.head()"
   ]
  },
  {
   "cell_type": "code",
   "execution_count": 1052,
   "id": "17365770",
   "metadata": {},
   "outputs": [],
   "source": [
    "sc=StandardScaler()"
   ]
  },
  {
   "cell_type": "code",
   "execution_count": 1053,
   "id": "285adf80",
   "metadata": {},
   "outputs": [],
   "source": [
    "X_train_sc= pd.DataFrame(sc.fit_transform(X_train),columns=X_train.columns)\n",
    "X_test_sc = pd.DataFrame(sc.transform(X_test),columns=X_test.columns)"
   ]
  },
  {
   "cell_type": "code",
   "execution_count": 1167,
   "id": "02f0eabb",
   "metadata": {},
   "outputs": [
    {
     "data": {
      "text/html": [
       "<div>\n",
       "<style scoped>\n",
       "    .dataframe tbody tr th:only-of-type {\n",
       "        vertical-align: middle;\n",
       "    }\n",
       "\n",
       "    .dataframe tbody tr th {\n",
       "        vertical-align: top;\n",
       "    }\n",
       "\n",
       "    .dataframe thead th {\n",
       "        text-align: right;\n",
       "    }\n",
       "</style>\n",
       "<table border=\"1\" class=\"dataframe\">\n",
       "  <thead>\n",
       "    <tr style=\"text-align: right;\">\n",
       "      <th></th>\n",
       "      <th>Age</th>\n",
       "      <th>Gender</th>\n",
       "      <th>Engineer</th>\n",
       "      <th>MBA</th>\n",
       "      <th>Work Exp</th>\n",
       "      <th>Salary</th>\n",
       "      <th>Distance</th>\n",
       "      <th>license</th>\n",
       "    </tr>\n",
       "  </thead>\n",
       "  <tbody>\n",
       "    <tr>\n",
       "      <th>0</th>\n",
       "      <td>0.331618</td>\n",
       "      <td>0.659686</td>\n",
       "      <td>0.0</td>\n",
       "      <td>-0.594737</td>\n",
       "      <td>-0.218276</td>\n",
       "      <td>0.337996</td>\n",
       "      <td>-0.213637</td>\n",
       "      <td>0.0</td>\n",
       "    </tr>\n",
       "    <tr>\n",
       "      <th>1</th>\n",
       "      <td>-0.152154</td>\n",
       "      <td>0.659686</td>\n",
       "      <td>0.0</td>\n",
       "      <td>1.681416</td>\n",
       "      <td>0.013853</td>\n",
       "      <td>-0.223344</td>\n",
       "      <td>1.213093</td>\n",
       "      <td>0.0</td>\n",
       "    </tr>\n",
       "    <tr>\n",
       "      <th>2</th>\n",
       "      <td>-0.152154</td>\n",
       "      <td>0.659686</td>\n",
       "      <td>0.0</td>\n",
       "      <td>-0.594737</td>\n",
       "      <td>0.013853</td>\n",
       "      <td>-0.223344</td>\n",
       "      <td>0.569666</td>\n",
       "      <td>0.0</td>\n",
       "    </tr>\n",
       "    <tr>\n",
       "      <th>3</th>\n",
       "      <td>-1.119699</td>\n",
       "      <td>0.659686</td>\n",
       "      <td>0.0</td>\n",
       "      <td>-0.594737</td>\n",
       "      <td>-1.378917</td>\n",
       "      <td>-1.346022</td>\n",
       "      <td>0.122064</td>\n",
       "      <td>0.0</td>\n",
       "    </tr>\n",
       "    <tr>\n",
       "      <th>4</th>\n",
       "      <td>0.573504</td>\n",
       "      <td>0.659686</td>\n",
       "      <td>0.0</td>\n",
       "      <td>-0.594737</td>\n",
       "      <td>0.245981</td>\n",
       "      <td>0.150883</td>\n",
       "      <td>0.765491</td>\n",
       "      <td>0.0</td>\n",
       "    </tr>\n",
       "  </tbody>\n",
       "</table>\n",
       "</div>"
      ],
      "text/plain": [
       "        Age    Gender  Engineer       MBA  Work Exp    Salary  Distance  \\\n",
       "0  0.331618  0.659686       0.0 -0.594737 -0.218276  0.337996 -0.213637   \n",
       "1 -0.152154  0.659686       0.0  1.681416  0.013853 -0.223344  1.213093   \n",
       "2 -0.152154  0.659686       0.0 -0.594737  0.013853 -0.223344  0.569666   \n",
       "3 -1.119699  0.659686       0.0 -0.594737 -1.378917 -1.346022  0.122064   \n",
       "4  0.573504  0.659686       0.0 -0.594737  0.245981  0.150883  0.765491   \n",
       "\n",
       "   license  \n",
       "0      0.0  \n",
       "1      0.0  \n",
       "2      0.0  \n",
       "3      0.0  \n",
       "4      0.0  "
      ]
     },
     "execution_count": 1167,
     "metadata": {},
     "output_type": "execute_result"
    }
   ],
   "source": [
    "X_train_sc.head()"
   ]
  },
  {
   "cell_type": "code",
   "execution_count": 1168,
   "id": "c6ba8337",
   "metadata": {},
   "outputs": [
    {
     "data": {
      "text/html": [
       "<div>\n",
       "<style scoped>\n",
       "    .dataframe tbody tr th:only-of-type {\n",
       "        vertical-align: middle;\n",
       "    }\n",
       "\n",
       "    .dataframe tbody tr th {\n",
       "        vertical-align: top;\n",
       "    }\n",
       "\n",
       "    .dataframe thead th {\n",
       "        text-align: right;\n",
       "    }\n",
       "</style>\n",
       "<table border=\"1\" class=\"dataframe\">\n",
       "  <thead>\n",
       "    <tr style=\"text-align: right;\">\n",
       "      <th></th>\n",
       "      <th>Age</th>\n",
       "      <th>Gender</th>\n",
       "      <th>Engineer</th>\n",
       "      <th>MBA</th>\n",
       "      <th>Work Exp</th>\n",
       "      <th>Salary</th>\n",
       "      <th>Distance</th>\n",
       "      <th>license</th>\n",
       "    </tr>\n",
       "  </thead>\n",
       "  <tbody>\n",
       "    <tr>\n",
       "      <th>0</th>\n",
       "      <td>-0.394040</td>\n",
       "      <td>-1.515873</td>\n",
       "      <td>0.0</td>\n",
       "      <td>-0.594737</td>\n",
       "      <td>0.478109</td>\n",
       "      <td>0.094749</td>\n",
       "      <td>0.094089</td>\n",
       "      <td>0.0</td>\n",
       "    </tr>\n",
       "    <tr>\n",
       "      <th>1</th>\n",
       "      <td>-0.152154</td>\n",
       "      <td>0.659686</td>\n",
       "      <td>0.0</td>\n",
       "      <td>1.681416</td>\n",
       "      <td>-0.218276</td>\n",
       "      <td>-0.036231</td>\n",
       "      <td>-0.353513</td>\n",
       "      <td>0.0</td>\n",
       "    </tr>\n",
       "    <tr>\n",
       "      <th>2</th>\n",
       "      <td>1.782935</td>\n",
       "      <td>-1.515873</td>\n",
       "      <td>0.0</td>\n",
       "      <td>-0.594737</td>\n",
       "      <td>2.219072</td>\n",
       "      <td>1.968218</td>\n",
       "      <td>-0.297563</td>\n",
       "      <td>0.0</td>\n",
       "    </tr>\n",
       "    <tr>\n",
       "      <th>3</th>\n",
       "      <td>-0.877813</td>\n",
       "      <td>0.659686</td>\n",
       "      <td>0.0</td>\n",
       "      <td>1.681416</td>\n",
       "      <td>-0.914661</td>\n",
       "      <td>-1.027930</td>\n",
       "      <td>-1.360616</td>\n",
       "      <td>0.0</td>\n",
       "    </tr>\n",
       "    <tr>\n",
       "      <th>4</th>\n",
       "      <td>1.299163</td>\n",
       "      <td>0.659686</td>\n",
       "      <td>0.0</td>\n",
       "      <td>-0.594737</td>\n",
       "      <td>1.174494</td>\n",
       "      <td>0.487686</td>\n",
       "      <td>-0.101737</td>\n",
       "      <td>0.0</td>\n",
       "    </tr>\n",
       "  </tbody>\n",
       "</table>\n",
       "</div>"
      ],
      "text/plain": [
       "        Age    Gender  Engineer       MBA  Work Exp    Salary  Distance  \\\n",
       "0 -0.394040 -1.515873       0.0 -0.594737  0.478109  0.094749  0.094089   \n",
       "1 -0.152154  0.659686       0.0  1.681416 -0.218276 -0.036231 -0.353513   \n",
       "2  1.782935 -1.515873       0.0 -0.594737  2.219072  1.968218 -0.297563   \n",
       "3 -0.877813  0.659686       0.0  1.681416 -0.914661 -1.027930 -1.360616   \n",
       "4  1.299163  0.659686       0.0 -0.594737  1.174494  0.487686 -0.101737   \n",
       "\n",
       "   license  \n",
       "0      0.0  \n",
       "1      0.0  \n",
       "2      0.0  \n",
       "3      0.0  \n",
       "4      0.0  "
      ]
     },
     "execution_count": 1168,
     "metadata": {},
     "output_type": "execute_result"
    }
   ],
   "source": [
    "X_test_sc.head()"
   ]
  },
  {
   "cell_type": "markdown",
   "id": "9bd3c519",
   "metadata": {},
   "source": [
    "# 1.4) Apply Logistic Regression(4 pts). Interpret the inferences of both model s (2 pts)\n"
   ]
  },
  {
   "cell_type": "code",
   "execution_count": 1054,
   "id": "730d9fef",
   "metadata": {},
   "outputs": [],
   "source": [
    "classifier=LogisticRegression()"
   ]
  },
  {
   "cell_type": "code",
   "execution_count": 1055,
   "id": "fd342964",
   "metadata": {},
   "outputs": [],
   "source": [
    "LR = LogisticRegression(solver='newton-cg',penalty='none')"
   ]
  },
  {
   "cell_type": "code",
   "execution_count": 1056,
   "id": "5c7d6120",
   "metadata": {},
   "outputs": [],
   "source": [
    "parameter = {'penalty':['l1','l2','elastricnet'],'C':[1,2,3,4,5,6,7,8,9,10,20,30,40,50],'max_iter':[100,200,300]}"
   ]
  },
  {
   "cell_type": "code",
   "execution_count": 1057,
   "id": "f2399739",
   "metadata": {},
   "outputs": [],
   "source": [
    "classifier_regressor=GridSearchCV(classifier,param_grid=parameter,scoring='accuracy',cv=5)"
   ]
  },
  {
   "cell_type": "code",
   "execution_count": 1058,
   "id": "b79b4d9a",
   "metadata": {},
   "outputs": [
    {
     "data": {
      "text/plain": [
       "GridSearchCV(cv=5, estimator=LogisticRegression(),\n",
       "             param_grid={'C': [1, 2, 3, 4, 5, 6, 7, 8, 9, 10, 20, 30, 40, 50],\n",
       "                         'max_iter': [100, 200, 300],\n",
       "                         'penalty': ['l1', 'l2', 'elastricnet']},\n",
       "             scoring='accuracy')"
      ]
     },
     "execution_count": 1058,
     "metadata": {},
     "output_type": "execute_result"
    }
   ],
   "source": [
    "classifier_regressor.fit(x_train,y_train)"
   ]
  },
  {
   "cell_type": "code",
   "execution_count": 1059,
   "id": "368e3d62",
   "metadata": {},
   "outputs": [
    {
     "name": "stdout",
     "output_type": "stream",
     "text": [
      "{'C': 3, 'max_iter': 100, 'penalty': 'l2'}\n"
     ]
    }
   ],
   "source": [
    "print(classifier_regressor.best_params_)"
   ]
  },
  {
   "cell_type": "markdown",
   "id": "0762ceaf",
   "metadata": {},
   "source": [
    "# Model 1 - Building the model on the Training Data without scaled data. "
   ]
  },
  {
   "cell_type": "code",
   "execution_count": 1070,
   "id": "236be7ba",
   "metadata": {},
   "outputs": [],
   "source": [
    "Logistic_1 = LR.fit(Train[['Age','Gender','Engineer','MBA','Work Exp','Salary','Distance','license']],Train['Transport'])"
   ]
  },
  {
   "cell_type": "code",
   "execution_count": 1071,
   "id": "e3993ea3",
   "metadata": {},
   "outputs": [
    {
     "name": "stdout",
     "output_type": "stream",
     "text": [
      "Accuracy Score of Model 1: 0.7774193548387097\n"
     ]
    }
   ],
   "source": [
    "print('Accuracy Score of Model 1:',Logistic_1.score(Train[['Age','Gender','Engineer','MBA','Work Exp','Salary','Distance','license']],Train['Transport']))"
   ]
  },
  {
   "cell_type": "markdown",
   "id": "0a7e5838",
   "metadata": {},
   "source": [
    "# Predicting the classes and the probabilities on the Training Data"
   ]
  },
  {
   "cell_type": "code",
   "execution_count": 1072,
   "id": "472ba1e5",
   "metadata": {},
   "outputs": [],
   "source": [
    "model_1_test_class = Logistic_1.predict(Test[['Age','Gender','Engineer','MBA','Work Exp','Salary','Distance','license']])\n",
    "model_1_test_probabilities = Logistic_1.predict_proba(Test[['Age','Gender','Engineer','MBA','Work Exp','Salary','Distance','license']])"
   ]
  },
  {
   "cell_type": "code",
   "execution_count": 1073,
   "id": "59848d57",
   "metadata": {},
   "outputs": [
    {
     "data": {
      "text/plain": [
       "array([1, 1, 1, 0, 0, 1, 1, 1, 1, 1, 0, 1, 1, 1, 1, 1, 1, 1, 0, 0, 1, 1,\n",
       "       1, 1, 1, 1, 1, 1, 0, 1, 1, 1, 1, 1, 1, 1, 1, 0, 1, 1, 1, 1, 1, 0,\n",
       "       1, 1, 1, 1, 0, 1, 1, 1, 1, 1, 1, 1, 0, 1, 1, 0, 1, 1, 0, 1, 0, 1,\n",
       "       1, 0, 1, 1, 0, 0, 0, 0, 1, 1, 1, 1, 1, 1, 1, 1, 1, 0, 1, 1, 1, 1,\n",
       "       1, 1, 1, 1, 1, 0, 1, 1, 1, 0, 1, 1, 1, 1, 0, 1, 1, 1, 1, 1, 0, 1,\n",
       "       1, 1, 0, 1, 0, 1, 1, 1, 1, 1, 1, 1, 1, 0, 1, 0, 1, 0, 1, 1, 1, 1,\n",
       "       0, 1], dtype=int64)"
      ]
     },
     "execution_count": 1073,
     "metadata": {},
     "output_type": "execute_result"
    }
   ],
   "source": [
    "model_1_test_class"
   ]
  },
  {
   "cell_type": "code",
   "execution_count": 1170,
   "id": "5210ad76",
   "metadata": {
    "scrolled": true
   },
   "outputs": [
    {
     "data": {
      "text/plain": [
       "array([[0.08291952, 0.91708048],\n",
       "       [0.04772561, 0.95227439],\n",
       "       [0.19767572, 0.80232428],\n",
       "       [0.92591029, 0.07408971],\n",
       "       [0.68979078, 0.31020922],\n",
       "       [0.06318548, 0.93681452],\n",
       "       [0.05472353, 0.94527647],\n",
       "       [0.13321776, 0.86678224],\n",
       "       [0.20643879, 0.79356121],\n",
       "       [0.03267822, 0.96732178],\n",
       "       [0.75991359, 0.24008641],\n",
       "       [0.45420452, 0.54579548],\n",
       "       [0.41520514, 0.58479486],\n",
       "       [0.32897895, 0.67102105],\n",
       "       [0.11618542, 0.88381458],\n",
       "       [0.26996844, 0.73003156],\n",
       "       [0.21832318, 0.78167682],\n",
       "       [0.31027289, 0.68972711],\n",
       "       [0.50625648, 0.49374352],\n",
       "       [0.62872346, 0.37127654],\n",
       "       [0.04475213, 0.95524787],\n",
       "       [0.04140514, 0.95859486],\n",
       "       [0.07937808, 0.92062192],\n",
       "       [0.18337108, 0.81662892],\n",
       "       [0.22361586, 0.77638414],\n",
       "       [0.11577293, 0.88422707],\n",
       "       [0.07222696, 0.92777304],\n",
       "       [0.25314293, 0.74685707],\n",
       "       [0.91029574, 0.08970426],\n",
       "       [0.4285373 , 0.5714627 ],\n",
       "       [0.11408417, 0.88591583],\n",
       "       [0.42380879, 0.57619121],\n",
       "       [0.13825322, 0.86174678],\n",
       "       [0.35828127, 0.64171873],\n",
       "       [0.08587868, 0.91412132],\n",
       "       [0.1066908 , 0.8933092 ],\n",
       "       [0.44731349, 0.55268651],\n",
       "       [0.87233985, 0.12766015],\n",
       "       [0.2909614 , 0.7090386 ],\n",
       "       [0.10179784, 0.89820216],\n",
       "       [0.1170481 , 0.8829519 ],\n",
       "       [0.11614213, 0.88385787],\n",
       "       [0.09817398, 0.90182602],\n",
       "       [0.53133965, 0.46866035],\n",
       "       [0.44652072, 0.55347928],\n",
       "       [0.12458172, 0.87541828],\n",
       "       [0.13854849, 0.86145151],\n",
       "       [0.08457882, 0.91542118],\n",
       "       [0.73918247, 0.26081753],\n",
       "       [0.20251911, 0.79748089],\n",
       "       [0.03782459, 0.96217541],\n",
       "       [0.19679901, 0.80320099],\n",
       "       [0.04233276, 0.95766724],\n",
       "       [0.25015772, 0.74984228],\n",
       "       [0.46202706, 0.53797294],\n",
       "       [0.04340075, 0.95659925],\n",
       "       [0.62716961, 0.37283039],\n",
       "       [0.15589635, 0.84410365],\n",
       "       [0.07669229, 0.92330771],\n",
       "       [0.7639699 , 0.2360301 ],\n",
       "       [0.10753128, 0.89246872],\n",
       "       [0.34488889, 0.65511111],\n",
       "       [0.52049596, 0.47950404],\n",
       "       [0.18149662, 0.81850338],\n",
       "       [0.61397728, 0.38602272],\n",
       "       [0.11577926, 0.88422074],\n",
       "       [0.08492124, 0.91507876],\n",
       "       [0.58251888, 0.41748112],\n",
       "       [0.46782011, 0.53217989],\n",
       "       [0.23241923, 0.76758077],\n",
       "       [0.6345089 , 0.3654911 ],\n",
       "       [0.86221973, 0.13778027],\n",
       "       [0.79706121, 0.20293879],\n",
       "       [0.69346963, 0.30653037],\n",
       "       [0.07718559, 0.92281441],\n",
       "       [0.16309724, 0.83690276],\n",
       "       [0.23207751, 0.76792249],\n",
       "       [0.13839664, 0.86160336],\n",
       "       [0.19608168, 0.80391832],\n",
       "       [0.03998817, 0.96001183],\n",
       "       [0.21700131, 0.78299869],\n",
       "       [0.04231565, 0.95768435],\n",
       "       [0.17658106, 0.82341894],\n",
       "       [0.9383289 , 0.0616711 ],\n",
       "       [0.12067383, 0.87932617],\n",
       "       [0.34154861, 0.65845139],\n",
       "       [0.17602471, 0.82397529],\n",
       "       [0.47285298, 0.52714702],\n",
       "       [0.43451045, 0.56548955],\n",
       "       [0.1902795 , 0.8097205 ],\n",
       "       [0.06963753, 0.93036247],\n",
       "       [0.28707478, 0.71292522],\n",
       "       [0.39197337, 0.60802663],\n",
       "       [0.67248544, 0.32751456],\n",
       "       [0.20167496, 0.79832504],\n",
       "       [0.18833782, 0.81166218],\n",
       "       [0.07368571, 0.92631429],\n",
       "       [0.93534959, 0.06465041],\n",
       "       [0.2215092 , 0.7784908 ],\n",
       "       [0.15815991, 0.84184009],\n",
       "       [0.11845737, 0.88154263],\n",
       "       [0.16859723, 0.83140277],\n",
       "       [0.9034659 , 0.0965341 ],\n",
       "       [0.05448596, 0.94551404],\n",
       "       [0.43728474, 0.56271526],\n",
       "       [0.27567898, 0.72432102],\n",
       "       [0.35003544, 0.64996456],\n",
       "       [0.20551559, 0.79448441],\n",
       "       [0.90595267, 0.09404733],\n",
       "       [0.13664558, 0.86335442],\n",
       "       [0.09343565, 0.90656435],\n",
       "       [0.18789451, 0.81210549],\n",
       "       [0.51617365, 0.48382635],\n",
       "       [0.07977137, 0.92022863],\n",
       "       [0.87491776, 0.12508224],\n",
       "       [0.10809115, 0.89190885],\n",
       "       [0.24005553, 0.75994447],\n",
       "       [0.05573993, 0.94426007],\n",
       "       [0.04602723, 0.95397277],\n",
       "       [0.14362585, 0.85637415],\n",
       "       [0.12986388, 0.87013612],\n",
       "       [0.11129974, 0.88870026],\n",
       "       [0.32424891, 0.67575109],\n",
       "       [0.78904156, 0.21095844],\n",
       "       [0.22634271, 0.77365729],\n",
       "       [0.64569087, 0.35430913],\n",
       "       [0.39821133, 0.60178867],\n",
       "       [0.75492611, 0.24507389],\n",
       "       [0.39864448, 0.60135552],\n",
       "       [0.32403781, 0.67596219],\n",
       "       [0.26584704, 0.73415296],\n",
       "       [0.10877795, 0.89122205],\n",
       "       [0.51322203, 0.48677797],\n",
       "       [0.22730469, 0.77269531]])"
      ]
     },
     "execution_count": 1170,
     "metadata": {},
     "output_type": "execute_result"
    }
   ],
   "source": [
    "model_1_test_probabilities"
   ]
  },
  {
   "cell_type": "markdown",
   "id": "6cb0ecaa",
   "metadata": {},
   "source": [
    "# Model 2 -  Building the model on the Training Data with scaled data."
   ]
  },
  {
   "cell_type": "code",
   "execution_count": 1075,
   "id": "76285cdb",
   "metadata": {},
   "outputs": [],
   "source": [
    "Logistic_2 = LR.fit(X_train_sc[['Age','Gender','Engineer','MBA','Work Exp','Salary','Distance','license']],Train['Transport'])"
   ]
  },
  {
   "cell_type": "code",
   "execution_count": 1076,
   "id": "b48296a4",
   "metadata": {},
   "outputs": [
    {
     "name": "stdout",
     "output_type": "stream",
     "text": [
      "Accuracy Score of Model 2: 0.6741935483870968\n"
     ]
    }
   ],
   "source": [
    "print('Accuracy Score of Model 2:',Logistic_2.score(X_train_sc[['Age','Gender','Engineer','MBA','Work Exp','Salary','Distance','license']],Train['Transport']))"
   ]
  },
  {
   "cell_type": "markdown",
   "id": "30124324",
   "metadata": {},
   "source": [
    "# Predicting the classes and the probabilities on the Test Data"
   ]
  },
  {
   "cell_type": "code",
   "execution_count": 1077,
   "id": "07505b48",
   "metadata": {},
   "outputs": [],
   "source": [
    "model_2_Test_class = Logistic_2.predict(Test[['Age','Gender','Engineer','MBA','Work Exp','Salary','Distance','license']])\n",
    "model_2_Test_probabilities = Logistic_2.predict_proba(Test[['Age','Gender','Engineer','MBA','Work Exp','Salary','Distance','license']])"
   ]
  },
  {
   "cell_type": "code",
   "execution_count": 1078,
   "id": "2e78f252",
   "metadata": {},
   "outputs": [
    {
     "data": {
      "text/plain": [
       "array([1, 1, 1, 1, 1, 1, 1, 1, 1, 1, 1, 1, 1, 1, 1, 1, 1, 1, 1, 1, 1, 1,\n",
       "       1, 1, 1, 1, 1, 1, 1, 1, 1, 1, 1, 1, 1, 1, 1, 1, 1, 1, 1, 1, 1, 1,\n",
       "       1, 1, 1, 1, 1, 1, 1, 1, 1, 1, 1, 1, 1, 1, 1, 1, 1, 1, 1, 1, 1, 1,\n",
       "       1, 1, 1, 1, 1, 1, 1, 1, 1, 1, 1, 1, 1, 1, 1, 1, 1, 1, 1, 1, 1, 1,\n",
       "       1, 1, 1, 1, 1, 1, 1, 1, 1, 1, 1, 1, 1, 1, 1, 1, 1, 1, 1, 1, 1, 1,\n",
       "       1, 1, 1, 1, 1, 1, 1, 1, 1, 1, 1, 1, 1, 1, 1, 1, 1, 1, 1, 1, 1, 1,\n",
       "       1, 1], dtype=int64)"
      ]
     },
     "execution_count": 1078,
     "metadata": {},
     "output_type": "execute_result"
    }
   ],
   "source": [
    "model_2_Test_class"
   ]
  },
  {
   "cell_type": "code",
   "execution_count": 1079,
   "id": "a3926388",
   "metadata": {},
   "outputs": [
    {
     "data": {
      "text/plain": [
       "array([[0.04370427, 0.95629573],\n",
       "       [0.1132241 , 0.8867759 ],\n",
       "       [0.15171023, 0.84828977],\n",
       "       [0.27552151, 0.72447849],\n",
       "       [0.10467495, 0.89532505],\n",
       "       [0.05606401, 0.94393599],\n",
       "       [0.05011345, 0.94988655],\n",
       "       [0.083622  , 0.916378  ],\n",
       "       [0.12780794, 0.87219206],\n",
       "       [0.04018031, 0.95981969],\n",
       "       [0.06900672, 0.93099328],\n",
       "       [0.23606555, 0.76393445],\n",
       "       [0.06717824, 0.93282176],\n",
       "       [0.10268806, 0.89731194],\n",
       "       [0.08896491, 0.91103509],\n",
       "       [0.13713097, 0.86286903],\n",
       "       [0.16861798, 0.83138202],\n",
       "       [0.08639432, 0.91360568],\n",
       "       [0.09683138, 0.90316862],\n",
       "       [0.37204667, 0.62795333],\n",
       "       [0.05917113, 0.94082887],\n",
       "       [0.02602898, 0.97397102],\n",
       "       [0.08580666, 0.91419334],\n",
       "       [0.10602066, 0.89397934],\n",
       "       [0.07016318, 0.92983682],\n",
       "       [0.03184409, 0.96815591],\n",
       "       [0.09873435, 0.90126565],\n",
       "       [0.09276673, 0.90723327],\n",
       "       [0.28417116, 0.71582884],\n",
       "       [0.2399577 , 0.7600423 ],\n",
       "       [0.1963685 , 0.8036315 ],\n",
       "       [0.02776956, 0.97223044],\n",
       "       [0.10922447, 0.89077553],\n",
       "       [0.14253001, 0.85746999],\n",
       "       [0.08216054, 0.91783946],\n",
       "       [0.05728887, 0.94271113],\n",
       "       [0.14865444, 0.85134556],\n",
       "       [0.34639048, 0.65360952],\n",
       "       [0.10188678, 0.89811322],\n",
       "       [0.15036873, 0.84963127],\n",
       "       [0.05270732, 0.94729268],\n",
       "       [0.02578194, 0.97421806],\n",
       "       [0.08060344, 0.91939656],\n",
       "       [0.4352236 , 0.5647764 ],\n",
       "       [0.0764326 , 0.9235674 ],\n",
       "       [0.08093194, 0.91906806],\n",
       "       [0.09111177, 0.90888823],\n",
       "       [0.04864404, 0.95135596],\n",
       "       [0.34052244, 0.65947756],\n",
       "       [0.26356352, 0.73643648],\n",
       "       [0.0468753 , 0.9531247 ],\n",
       "       [0.07719204, 0.92280796],\n",
       "       [0.09755405, 0.90244595],\n",
       "       [0.17812707, 0.82187293],\n",
       "       [0.39033969, 0.60966031],\n",
       "       [0.09708273, 0.90291727],\n",
       "       [0.38401975, 0.61598025],\n",
       "       [0.02437796, 0.97562204],\n",
       "       [0.05383535, 0.94616465],\n",
       "       [0.45468977, 0.54531023],\n",
       "       [0.11419312, 0.88580688],\n",
       "       [0.1160494 , 0.8839506 ],\n",
       "       [0.0297061 , 0.9702939 ],\n",
       "       [0.0786311 , 0.9213689 ],\n",
       "       [0.41714872, 0.58285128],\n",
       "       [0.02971182, 0.97028818],\n",
       "       [0.04311035, 0.95688965],\n",
       "       [0.04166994, 0.95833006],\n",
       "       [0.13203458, 0.86796542],\n",
       "       [0.04058802, 0.95941198],\n",
       "       [0.31368387, 0.68631613],\n",
       "       [0.36446602, 0.63553398],\n",
       "       [0.16494131, 0.83505869],\n",
       "       [0.29383272, 0.70616728],\n",
       "       [0.0409284 , 0.9590716 ],\n",
       "       [0.16217425, 0.83782575],\n",
       "       [0.02189244, 0.97810756],\n",
       "       [0.10347568, 0.89652432],\n",
       "       [0.05863826, 0.94136174],\n",
       "       [0.03606398, 0.96393602],\n",
       "       [0.09953344, 0.90046656],\n",
       "       [0.02724725, 0.97275275],\n",
       "       [0.05069107, 0.94930893],\n",
       "       [0.28154204, 0.71845796],\n",
       "       [0.08469639, 0.91530361],\n",
       "       [0.13212953, 0.86787047],\n",
       "       [0.10196478, 0.89803522],\n",
       "       [0.16688988, 0.83311012],\n",
       "       [0.07354536, 0.92645464],\n",
       "       [0.05063204, 0.94936796],\n",
       "       [0.05401822, 0.94598178],\n",
       "       [0.06846486, 0.93153514],\n",
       "       [0.09775613, 0.90224387],\n",
       "       [0.24999936, 0.75000064],\n",
       "       [0.06918025, 0.93081975],\n",
       "       [0.06465471, 0.93534529],\n",
       "       [0.10531993, 0.89468007],\n",
       "       [0.26953837, 0.73046163],\n",
       "       [0.08251935, 0.91748065],\n",
       "       [0.03142087, 0.96857913],\n",
       "       [0.05707997, 0.94292003],\n",
       "       [0.10545449, 0.89454551],\n",
       "       [0.23264931, 0.76735069],\n",
       "       [0.0601574 , 0.9398426 ],\n",
       "       [0.07790576, 0.92209424],\n",
       "       [0.3175165 , 0.6824835 ],\n",
       "       [0.09136519, 0.90863481],\n",
       "       [0.0751347 , 0.9248653 ],\n",
       "       [0.28635898, 0.71364102],\n",
       "       [0.07865346, 0.92134654],\n",
       "       [0.11656644, 0.88343356],\n",
       "       [0.03066753, 0.96933247],\n",
       "       [0.06608826, 0.93391174],\n",
       "       [0.09014711, 0.90985289],\n",
       "       [0.0558562 , 0.9441438 ],\n",
       "       [0.08945634, 0.91054366],\n",
       "       [0.28986278, 0.71013722],\n",
       "       [0.02487561, 0.97512439],\n",
       "       [0.05193174, 0.94806826],\n",
       "       [0.06549849, 0.93450151],\n",
       "       [0.08815301, 0.91184699],\n",
       "       [0.14560971, 0.85439029],\n",
       "       [0.09395574, 0.90604426],\n",
       "       [0.25257618, 0.74742382],\n",
       "       [0.14514948, 0.85485052],\n",
       "       [0.05240709, 0.94759291],\n",
       "       [0.06324699, 0.93675301],\n",
       "       [0.29031663, 0.70968337],\n",
       "       [0.21158152, 0.78841848],\n",
       "       [0.07706917, 0.92293083],\n",
       "       [0.04046846, 0.95953154],\n",
       "       [0.03870677, 0.96129323],\n",
       "       [0.15357812, 0.84642188],\n",
       "       [0.23324249, 0.76675751]])"
      ]
     },
     "execution_count": 1079,
     "metadata": {},
     "output_type": "execute_result"
    }
   ],
   "source": [
    "model_2_Test_probabilities"
   ]
  },
  {
   "cell_type": "markdown",
   "id": "6445e549",
   "metadata": {},
   "source": [
    "# 1.5) Apply KNN Model(4 pts). Interpret the inferences of each model (2 pts)"
   ]
  },
  {
   "cell_type": "markdown",
   "id": "17ae7a5b",
   "metadata": {},
   "source": [
    "# Model 1"
   ]
  },
  {
   "cell_type": "code",
   "execution_count": 1112,
   "id": "88b6984d",
   "metadata": {},
   "outputs": [
    {
     "data": {
      "text/plain": [
       "KNeighborsClassifier()"
      ]
     },
     "execution_count": 1112,
     "metadata": {},
     "output_type": "execute_result"
    }
   ],
   "source": [
    "knn=KNeighborsClassifier()\n",
    "knn.fit(x_train,y_train)"
   ]
  },
  {
   "cell_type": "code",
   "execution_count": 1113,
   "id": "adff1f56",
   "metadata": {},
   "outputs": [],
   "source": [
    "x_train_predict = knn.predict(X_train)\n",
    "x_test_predict = knn.predict(X_test)"
   ]
  },
  {
   "cell_type": "code",
   "execution_count": 1114,
   "id": "1c376b22",
   "metadata": {},
   "outputs": [
    {
     "name": "stdout",
     "output_type": "stream",
     "text": [
      "Train Accuracy is : 0.5741935483870968\n",
      "\n",
      "Test Accuracy is : 0.5522388059701493\n",
      "\n",
      "Train ROC-AUC score is : 0.4534657320872274\n",
      "\n",
      "Test ROC-AUC score is : 0.44137596899224807\n",
      "\n",
      "Confusion matrix for train set :  \n",
      " [[ 18  78]\n",
      " [ 54 160]]\n",
      "\n",
      "Confusion matrix for test set :  \n",
      " [[ 9 39]\n",
      " [21 65]]\n"
     ]
    }
   ],
   "source": [
    " print(\"Train Accuracy is : {}\".format(accuracy_score(y_train,x_train_predict)))\n",
    "\n",
    "print(\"\\nTest Accuracy is : {}\".format(accuracy_score(y_test,x_test_predict)))\n",
    "\n",
    "\n",
    "print(\"\\nTrain ROC-AUC score is : {}\".format(roc_auc_score(y_train,knn.predict_proba(X_train)[:,1])))\n",
    "print(\"\\nTest ROC-AUC score is : {}\".format(roc_auc_score(y_test,knn.predict_proba(X_test)[:,1])))\n",
    "\n",
    "\n",
    "\n",
    "print(\"\\nConfusion matrix for train set : \",\"\\n\",confusion_matrix(y_train,x_train_predict))\n",
    "print(\"\\nConfusion matrix for test set : \",\"\\n\",confusion_matrix(y_test,x_test_predict))"
   ]
  },
  {
   "cell_type": "code",
   "execution_count": 1120,
   "id": "f317b27f",
   "metadata": {},
   "outputs": [
    {
     "name": "stdout",
     "output_type": "stream",
     "text": [
      "Classification report Train set :\n",
      "              precision    recall  f1-score   support\n",
      "\n",
      "           0       0.25      0.19      0.21        96\n",
      "           1       0.67      0.75      0.71       214\n",
      "\n",
      "    accuracy                           0.57       310\n",
      "   macro avg       0.46      0.47      0.46       310\n",
      "weighted avg       0.54      0.57      0.56       310\n",
      "\n"
     ]
    }
   ],
   "source": [
    "print('Classification report Train set :')\n",
    "print(classification_report(y_train,x_train_predict))"
   ]
  },
  {
   "cell_type": "code",
   "execution_count": 1121,
   "id": "0f3a300d",
   "metadata": {},
   "outputs": [
    {
     "name": "stdout",
     "output_type": "stream",
     "text": [
      "Classification report Test set :\n",
      "              precision    recall  f1-score   support\n",
      "\n",
      "           0       0.30      0.19      0.23        48\n",
      "           1       0.62      0.76      0.68        86\n",
      "\n",
      "    accuracy                           0.55       134\n",
      "   macro avg       0.46      0.47      0.46       134\n",
      "weighted avg       0.51      0.55      0.52       134\n",
      "\n"
     ]
    }
   ],
   "source": [
    "print('Classification report Test set :')\n",
    "print(classification_report(y_test,x_test_predict))"
   ]
  },
  {
   "cell_type": "markdown",
   "id": "edbd5a59",
   "metadata": {},
   "source": [
    "# Model 2"
   ]
  },
  {
   "cell_type": "code",
   "execution_count": 1115,
   "id": "311b1d24",
   "metadata": {},
   "outputs": [
    {
     "data": {
      "text/plain": [
       "KNeighborsClassifier()"
      ]
     },
     "execution_count": 1115,
     "metadata": {},
     "output_type": "execute_result"
    }
   ],
   "source": [
    "knn=KNeighborsClassifier()\n",
    "knn.fit(X_train_sc,y_train)"
   ]
  },
  {
   "cell_type": "code",
   "execution_count": 1116,
   "id": "fcf58df5",
   "metadata": {},
   "outputs": [],
   "source": [
    "Y_train_predict = knn.predict(X_train_sc)\n",
    "Y_test_predict = knn.predict(X_test_sc)"
   ]
  },
  {
   "cell_type": "code",
   "execution_count": 1117,
   "id": "852d4bfe",
   "metadata": {},
   "outputs": [
    {
     "name": "stdout",
     "output_type": "stream",
     "text": [
      "Train Accuracy is : 0.7612903225806451\n",
      "\n",
      "Test Accuracy is : 0.5970149253731343\n",
      "\n",
      "Train ROC-AUC score is : 0.7773559190031153\n",
      "\n",
      "Test ROC-AUC score is : 0.4574854651162791\n",
      "\n",
      "Confusion matrix for train set :  \n",
      " [[ 45  51]\n",
      " [ 23 191]]\n",
      "\n",
      "Confusion matrix for test set :  \n",
      " [[ 8 40]\n",
      " [14 72]]\n"
     ]
    }
   ],
   "source": [
    "print(\"Train Accuracy is : {}\".format(accuracy_score(y_train,Y_train_predict)))\n",
    "\n",
    "print(\"\\nTest Accuracy is : {}\".format(accuracy_score(y_test,Y_test_predict)))\n",
    "\n",
    "\n",
    "print(\"\\nTrain ROC-AUC score is : {}\".format(roc_auc_score(y_train,knn.predict_proba(X_train_sc)[:,1])))\n",
    "print(\"\\nTest ROC-AUC score is : {}\".format(roc_auc_score(y_test,knn.predict_proba(X_test_sc)[:,1])))\n",
    "\n",
    "\n",
    "\n",
    "print(\"\\nConfusion matrix for train set : \",\"\\n\",confusion_matrix(y_train,Y_train_predict))\n",
    "print(\"\\nConfusion matrix for test set : \",\"\\n\",confusion_matrix(y_test,Y_test_predict))"
   ]
  },
  {
   "cell_type": "code",
   "execution_count": 1118,
   "id": "34814c95",
   "metadata": {},
   "outputs": [
    {
     "name": "stdout",
     "output_type": "stream",
     "text": [
      "Classification report Train set :\n",
      "              precision    recall  f1-score   support\n",
      "\n",
      "           0       0.66      0.47      0.55        96\n",
      "           1       0.79      0.89      0.84       214\n",
      "\n",
      "    accuracy                           0.76       310\n",
      "   macro avg       0.73      0.68      0.69       310\n",
      "weighted avg       0.75      0.76      0.75       310\n",
      "\n"
     ]
    }
   ],
   "source": [
    "print('Classification report Train set :')\n",
    "print(classification_report(y_train,Y_train_predict))"
   ]
  },
  {
   "cell_type": "code",
   "execution_count": 1119,
   "id": "79a22444",
   "metadata": {},
   "outputs": [
    {
     "name": "stdout",
     "output_type": "stream",
     "text": [
      "Classification report Test set :\n",
      "              precision    recall  f1-score   support\n",
      "\n",
      "           0       0.36      0.17      0.23        48\n",
      "           1       0.64      0.84      0.73        86\n",
      "\n",
      "    accuracy                           0.60       134\n",
      "   macro avg       0.50      0.50      0.48       134\n",
      "weighted avg       0.54      0.60      0.55       134\n",
      "\n"
     ]
    }
   ],
   "source": [
    "print('Classification report Test set :')\n",
    "print(classification_report(y_test,Y_test_predict))"
   ]
  },
  {
   "cell_type": "markdown",
   "id": "845f6a96",
   "metadata": {},
   "source": [
    "# 1.6) Bagging ( 4 pts) and Boosting (4 pts), Model Tuning (4 pts)."
   ]
  },
  {
   "cell_type": "markdown",
   "id": "0e228473",
   "metadata": {},
   "source": [
    "# Bagging "
   ]
  },
  {
   "cell_type": "markdown",
   "id": "7d83559e",
   "metadata": {},
   "source": [
    "# Model 1"
   ]
  },
  {
   "cell_type": "code",
   "execution_count": 1142,
   "id": "df0fdf28",
   "metadata": {},
   "outputs": [
    {
     "data": {
      "text/plain": [
       "BaggingClassifier(base_estimator=DecisionTreeClassifier(), n_estimators=100,\n",
       "                  random_state=1)"
      ]
     },
     "execution_count": 1142,
     "metadata": {},
     "output_type": "execute_result"
    }
   ],
   "source": [
    "cart = DecisionTreeClassifier()\n",
    "Bagging_model=BaggingClassifier(base_estimator=cart,n_estimators=100,random_state=1)\n",
    "Bagging_model.fit(X_train, y_train)"
   ]
  },
  {
   "cell_type": "code",
   "execution_count": 1143,
   "id": "84477989",
   "metadata": {},
   "outputs": [
    {
     "name": "stdout",
     "output_type": "stream",
     "text": [
      "0.9967741935483871\n",
      "[[ 95   1]\n",
      " [  0 214]]\n",
      "              precision    recall  f1-score   support\n",
      "\n",
      "           0       1.00      0.99      0.99        96\n",
      "           1       1.00      1.00      1.00       214\n",
      "\n",
      "    accuracy                           1.00       310\n",
      "   macro avg       1.00      0.99      1.00       310\n",
      "weighted avg       1.00      1.00      1.00       310\n",
      "\n"
     ]
    }
   ],
   "source": [
    "## Performance Matrix on train data set\n",
    "x_train_predict = Bagging_model.predict(X_train)\n",
    "model_score =Bagging_model.score(X_train, y_train)\n",
    "print(model_score)\n",
    "print(metrics.confusion_matrix(y_train, x_train_predict))\n",
    "print(metrics.classification_report(y_train, x_train_predict))"
   ]
  },
  {
   "cell_type": "code",
   "execution_count": 1144,
   "id": "486316ee",
   "metadata": {},
   "outputs": [
    {
     "name": "stdout",
     "output_type": "stream",
     "text": [
      "0.5373134328358209\n",
      "[[ 7 41]\n",
      " [21 65]]\n",
      "              precision    recall  f1-score   support\n",
      "\n",
      "           0       0.25      0.15      0.18        48\n",
      "           1       0.61      0.76      0.68        86\n",
      "\n",
      "    accuracy                           0.54       134\n",
      "   macro avg       0.43      0.45      0.43       134\n",
      "weighted avg       0.48      0.54      0.50       134\n",
      "\n"
     ]
    }
   ],
   "source": [
    "## Performance Matrix on test data set\n",
    "x_test_predict = Bagging_model.predict(X_test)\n",
    "model_score = Bagging_model.score(X_test, y_test)\n",
    "print(model_score)\n",
    "print(metrics.confusion_matrix(y_test, x_test_predict))\n",
    "print(metrics.classification_report(y_test, x_test_predict))"
   ]
  },
  {
   "cell_type": "markdown",
   "id": "61cddbe3",
   "metadata": {},
   "source": [
    "# Model 2"
   ]
  },
  {
   "cell_type": "code",
   "execution_count": 1145,
   "id": "21e9306b",
   "metadata": {},
   "outputs": [
    {
     "data": {
      "text/plain": [
       "BaggingClassifier(base_estimator=DecisionTreeClassifier(), n_estimators=100,\n",
       "                  random_state=1)"
      ]
     },
     "execution_count": 1145,
     "metadata": {},
     "output_type": "execute_result"
    }
   ],
   "source": [
    "cart = DecisionTreeClassifier()\n",
    "Bagging_model=BaggingClassifier(base_estimator=cart,n_estimators=100,random_state=1)\n",
    "Bagging_model.fit(X_train_sc, y_train)"
   ]
  },
  {
   "cell_type": "code",
   "execution_count": 1146,
   "id": "0292e2d3",
   "metadata": {},
   "outputs": [
    {
     "name": "stdout",
     "output_type": "stream",
     "text": [
      "0.9967741935483871\n",
      "[[ 95   1]\n",
      " [  0 214]]\n",
      "              precision    recall  f1-score   support\n",
      "\n",
      "           0       1.00      0.99      0.99        96\n",
      "           1       1.00      1.00      1.00       214\n",
      "\n",
      "    accuracy                           1.00       310\n",
      "   macro avg       1.00      0.99      1.00       310\n",
      "weighted avg       1.00      1.00      1.00       310\n",
      "\n"
     ]
    }
   ],
   "source": [
    "## Performance Matrix on train data set\n",
    "y_train_predict = Bagging_model.predict(X_train_sc)\n",
    "model_score =Bagging_model.score(X_train_sc, y_train)\n",
    "print(model_score)\n",
    "print(metrics.confusion_matrix(y_train, y_train_predict))\n",
    "print(metrics.classification_report(y_train, y_train_predict))"
   ]
  },
  {
   "cell_type": "code",
   "execution_count": 1147,
   "id": "41caddae",
   "metadata": {},
   "outputs": [
    {
     "name": "stdout",
     "output_type": "stream",
     "text": [
      "0.5447761194029851\n",
      "[[ 7 41]\n",
      " [20 66]]\n",
      "              precision    recall  f1-score   support\n",
      "\n",
      "           0       0.26      0.15      0.19        48\n",
      "           1       0.62      0.77      0.68        86\n",
      "\n",
      "    accuracy                           0.54       134\n",
      "   macro avg       0.44      0.46      0.44       134\n",
      "weighted avg       0.49      0.54      0.51       134\n",
      "\n"
     ]
    }
   ],
   "source": [
    "## Performance Matrix on test data set\n",
    "y_test_predict = Bagging_model.predict(X_test_sc)\n",
    "model_score = Bagging_model.score(X_test_sc, y_test)\n",
    "print(model_score)\n",
    "print(metrics.confusion_matrix(y_test, y_test_predict))\n",
    "print(metrics.classification_report(y_test, y_test_predict))"
   ]
  },
  {
   "cell_type": "markdown",
   "id": "646fd448",
   "metadata": {},
   "source": [
    "# Boosting "
   ]
  },
  {
   "cell_type": "markdown",
   "id": "3d4e6775",
   "metadata": {},
   "source": [
    "# Model 1"
   ]
  },
  {
   "cell_type": "code",
   "execution_count": 1148,
   "id": "db89336d",
   "metadata": {},
   "outputs": [
    {
     "data": {
      "text/plain": [
       "AdaBoostClassifier(n_estimators=100, random_state=1)"
      ]
     },
     "execution_count": 1148,
     "metadata": {},
     "output_type": "execute_result"
    }
   ],
   "source": [
    "ADB_model1 = AdaBoostClassifier(n_estimators=100,random_state=1)\n",
    "ADB_model1.fit(x_train,y_train)"
   ]
  },
  {
   "cell_type": "code",
   "execution_count": 1149,
   "id": "5e936abf",
   "metadata": {},
   "outputs": [
    {
     "name": "stdout",
     "output_type": "stream",
     "text": [
      "Model Score with ADA Boosting algoritms is 0.8838709677419355\n"
     ]
    }
   ],
   "source": [
    "x_train_predict=ADB_model1.predict(x_train)\n",
    "ADB_model_score=ADB_model1.score(x_train,y_train)\n",
    "print('Model Score with ADA Boosting algoritms is',ADB_model_score)"
   ]
  },
  {
   "cell_type": "code",
   "execution_count": 1150,
   "id": "e77cc021",
   "metadata": {},
   "outputs": [
    {
     "name": "stdout",
     "output_type": "stream",
     "text": [
      "[[ 66  30]\n",
      " [  6 208]]\n",
      "              precision    recall  f1-score   support\n",
      "\n",
      "           0       0.92      0.69      0.79        96\n",
      "           1       0.87      0.97      0.92       214\n",
      "\n",
      "    accuracy                           0.88       310\n",
      "   macro avg       0.90      0.83      0.85       310\n",
      "weighted avg       0.89      0.88      0.88       310\n",
      "\n"
     ]
    }
   ],
   "source": [
    "print(metrics.confusion_matrix(y_train, x_train_predict))\n",
    "print(metrics.classification_report(y_train, x_train_predict))"
   ]
  },
  {
   "cell_type": "markdown",
   "id": "cf637658",
   "metadata": {},
   "source": [
    "# Model 2"
   ]
  },
  {
   "cell_type": "code",
   "execution_count": 1151,
   "id": "7ca416fa",
   "metadata": {},
   "outputs": [
    {
     "data": {
      "text/plain": [
       "AdaBoostClassifier(n_estimators=100, random_state=1)"
      ]
     },
     "execution_count": 1151,
     "metadata": {},
     "output_type": "execute_result"
    }
   ],
   "source": [
    "ADB_model2 = AdaBoostClassifier(n_estimators=100,random_state=1)\n",
    "ADB_model2.fit(X_train_sc,y_train)"
   ]
  },
  {
   "cell_type": "code",
   "execution_count": 1152,
   "id": "7d4aa168",
   "metadata": {},
   "outputs": [
    {
     "name": "stdout",
     "output_type": "stream",
     "text": [
      "Model Score with ADA Boosting algoritms is 0.7580645161290323\n"
     ]
    }
   ],
   "source": [
    "x_train_predict=ADB_model2.predict(X_train_sc)\n",
    "ADB_model_score=ADB_model2.score(X_train_sc,y_train)\n",
    "print('Model Score with ADA Boosting algoritms is',ADB_model_score)"
   ]
  },
  {
   "cell_type": "code",
   "execution_count": 1153,
   "id": "197099e2",
   "metadata": {},
   "outputs": [
    {
     "name": "stdout",
     "output_type": "stream",
     "text": [
      "[[ 95   1]\n",
      " [  0 214]]\n",
      "              precision    recall  f1-score   support\n",
      "\n",
      "           0       1.00      0.99      0.99        96\n",
      "           1       1.00      1.00      1.00       214\n",
      "\n",
      "    accuracy                           1.00       310\n",
      "   macro avg       1.00      0.99      1.00       310\n",
      "weighted avg       1.00      1.00      1.00       310\n",
      "\n"
     ]
    }
   ],
   "source": [
    "print(metrics.confusion_matrix(y_train, y_train_predict))\n",
    "print(metrics.classification_report(y_train, y_train_predict))"
   ]
  },
  {
   "cell_type": "markdown",
   "id": "6f7d2464",
   "metadata": {},
   "source": [
    "# Model Tuning"
   ]
  },
  {
   "cell_type": "code",
   "execution_count": null,
   "id": "59c0d0d5",
   "metadata": {},
   "outputs": [],
   "source": []
  },
  {
   "cell_type": "markdown",
   "id": "886ee8c0",
   "metadata": {},
   "source": [
    "# 1.7 Performance Metrics: Check the performance of Predictions on Train and Test sets using Accuracy, Confusion Matrix, Plot ROC curve and get ROC_AUC score for each model (5 pts) Final Model - Compare all models on the basis of the performance metrics in a structured tabular manner. Describe on which model is best/optimized (3 pts)"
   ]
  },
  {
   "cell_type": "markdown",
   "id": "774f8371",
   "metadata": {},
   "source": [
    "# Confusion Matrix"
   ]
  },
  {
   "cell_type": "code",
   "execution_count": 1156,
   "id": "cb26b54c",
   "metadata": {},
   "outputs": [],
   "source": [
    "rcParams['figure.figsize'] = 15,4"
   ]
  },
  {
   "cell_type": "code",
   "execution_count": 1171,
   "id": "63b6e0f5",
   "metadata": {},
   "outputs": [
    {
     "data": {
      "image/png": "[encoded data removed]",
      "text/plain": [
       "<Figure size 1080x576 with 4 Axes>"
      ]
     },
     "metadata": {
      "needs_background": "light"
     },
     "output_type": "display_data"
    }
   ],
   "source": [
    "f,a =  plt.subplots(1,2,sharex=True,sharey=True,squeeze=False)\n",
    "\n",
    "#Plotting confusion matrix for the different models for the test Data\n",
    "\n",
    "plot_0 = sns.heatmap((metrics.confusion_matrix(Test['Transport'],model_1_test_class)),annot=True,fmt='.5g',cmap='Greys',ax=a[0][0]);\n",
    "a[0][0].set_title('Model_1')\n",
    "\n",
    "plot_1 = sns.heatmap((metrics.confusion_matrix(Test['Transport'],model_2_Test_class)),annot=True,fmt='.5g',cmap='Greys',ax=a[0][1]);\n",
    "a[0][1].set_title('Model 2');"
   ]
  },
  {
   "cell_type": "code",
   "execution_count": 1161,
   "id": "2beec3b8",
   "metadata": {},
   "outputs": [
    {
     "name": "stdout",
     "output_type": "stream",
     "text": [
      "Model 1\n",
      "True Negative: 21 \n",
      "False Positives: 22 \n",
      "False Negatives: 8 \n",
      "True Positives: 83 \n",
      "\n",
      "\n",
      "Model 2\n",
      "True Negative: 0 \n",
      "False Positives: 43 \n",
      "False Negatives: 0 \n",
      "True Positives: 91 \n",
      "\n",
      "\n"
     ]
    }
   ],
   "source": [
    "print('Model 1')\n",
    "tn, fp, fn, tp = metrics.confusion_matrix(Test['Transport'],model_1_test_class).ravel()\n",
    "print('True Negative:',tn,'\\n''False Positives:' ,fp,'\\n''False Negatives:', fn,'\\n''True Positives:', tp,'\\n\\n')\n",
    "\n",
    "print('Model 2')\n",
    "tn, fp, fn, tp = metrics.confusion_matrix(Test['Transport'],model_2_Test_class).ravel()\n",
    "print('True Negative:',tn,'\\n''False Positives:' ,fp,'\\n''False Negatives:', fn,'\\n''True Positives:', tp,'\\n\\n')\n"
   ]
  },
  {
   "cell_type": "code",
   "execution_count": 1162,
   "id": "d31d2de1",
   "metadata": {},
   "outputs": [
    {
     "name": "stdout",
     "output_type": "stream",
     "text": [
      "Model 1\n",
      "              precision    recall  f1-score   support\n",
      "\n",
      "           0       0.72      0.49      0.58        43\n",
      "           1       0.79      0.91      0.85        91\n",
      "\n",
      "    accuracy                           0.78       134\n",
      "   macro avg       0.76      0.70      0.72       134\n",
      "weighted avg       0.77      0.78      0.76       134\n",
      " \n",
      "\n",
      "Model 2\n",
      "              precision    recall  f1-score   support\n",
      "\n",
      "           0       0.00      0.00      0.00        43\n",
      "           1       0.68      1.00      0.81        91\n",
      "\n",
      "    accuracy                           0.68       134\n",
      "   macro avg       0.34      0.50      0.40       134\n",
      "weighted avg       0.46      0.68      0.55       134\n",
      " \n",
      "\n"
     ]
    }
   ],
   "source": [
    "print('Model 1')\n",
    "print(metrics.classification_report(Test['Transport'],model_1_test_class),'\\n')\n",
    "\n",
    "print('Model 2')\n",
    "print(metrics.classification_report(Test['Transport'],model_2_Test_class),'\\n')\n"
   ]
  },
  {
   "cell_type": "markdown",
   "id": "329b2b65",
   "metadata": {},
   "source": [
    "# Check the summary statistics of the AUC-ROC curve for the two Models built. This is for the test data."
   ]
  },
  {
   "cell_type": "code",
   "execution_count": 1163,
   "id": "eef19fd5",
   "metadata": {},
   "outputs": [],
   "source": [
    "rcParams['figure.figsize'] = 15,8"
   ]
  },
  {
   "cell_type": "code",
   "execution_count": 1164,
   "id": "04e027ef",
   "metadata": {},
   "outputs": [
    {
     "name": "stdout",
     "output_type": "stream",
     "text": [
      "Model 1 AUC: 0.73115\n"
     ]
    },
    {
     "data": {
      "image/png": "[encoded data removed]",
      "text/plain": [
       "<Figure size 1080x576 with 1 Axes>"
      ]
     },
     "metadata": {
      "needs_background": "light"
     },
     "output_type": "display_data"
    },
    {
     "name": "stdout",
     "output_type": "stream",
     "text": [
      "Model 2 AUC: 0.59392\n"
     ]
    },
    {
     "data": {
      "image/png": "[encoded data removed]",
      "text/plain": [
       "<Figure size 1080x576 with 1 Axes>"
      ]
     },
     "metadata": {
      "needs_background": "light"
     },
     "output_type": "display_data"
    }
   ],
   "source": [
    "# AUC and ROC for the model 1\n",
    "\n",
    "\n",
    "auc = metrics.roc_auc_score(Test['Transport'],model_1_test_probabilities[:, 1])\n",
    "print('Model 1 AUC: %.5f' % auc)\n",
    "\n",
    "fpr, tpr, thresholds = metrics.roc_curve(Test['Transport'],model_1_test_probabilities[:, 1])\n",
    "plt.plot([0, 1], [0, 1], linestyle='--')\n",
    "plt.plot(fpr, tpr, marker='.')\n",
    "plt.show()\n",
    "\n",
    "\n",
    "# AUC and ROC for the model 2\n",
    "\n",
    "auc = metrics.roc_auc_score(Test['Transport'],model_2_Test_probabilities[:, 1])\n",
    "print('Model 2 AUC: %.5f' % auc)\n",
    "\n",
    "fpr, tpr, thresholds = metrics.roc_curve(Test['Transport'],model_2_Test_probabilities[:, 1])\n",
    "plt.plot([0, 1], [0, 1], linestyle='--')\n",
    "plt.plot(fpr, tpr, marker='.')\n",
    "plt.show()\n"
   ]
  },
  {
   "cell_type": "code",
   "execution_count": null,
   "id": "0cec0cc3",
   "metadata": {},
   "outputs": [],
   "source": []
  },
  {
   "cell_type": "markdown",
   "id": "544be2d1",
   "metadata": {},
   "source": [
    "# 1.8) Based on your analysis and working on the business problem, detail out appropriate insights and recommendations to help the management solve the business objective."
   ]
  },
  {
   "cell_type": "markdown",
   "id": "34e77eeb",
   "metadata": {},
   "source": [
    "After doing EDA on dataframe it shows that:\n",
    "\n",
    " .There are total of 9 variables: float64(2) int64(5) object(2).\n",
    " \n",
    " .shape of the data frame is Number of rows: 444 & Number of columns: 9.\n",
    " \n",
    " .There was no null values & there are no duplicated values in data frame.\n",
    " \n",
    " .We also did descriptive statistics to know the data.\n",
    " \n",
    " .To visualize the data we did Univariate Analysis & Bivariate Analysis.\n",
    " \n",
    " .We remove the outliers from the data.\n",
    " \n",
    "we Convert all objects to categorical codes & splits the data into 70(Training) & 30 (Testing) data.\n",
    "\n",
    "we did scaling to creat a model to compare with original data frame.\n",
    "\n",
    "Through Logistic Regression we compare both model to find accurate score.\n",
    "\n",
    "And did KNN( to solve both classification and regression problems.) model on both models.\n",
    "\n",
    "Did Bagging to reduce variance within a training model.\n",
    "\n",
    "Did Boosting to reduce errors in predictive data analysis.\n",
    "\n",
    "Did Model Tuning to provides optimized values for hyperparameters, which maximize your model's predictive accuracy.\n",
    "\n",
    "And Performance Accuracy, Confusion Matrix, Plot ROC curve and get ROC_AUC score for each model.\n"
   ]
  },
  {
   "cell_type": "code",
   "execution_count": null,
   "id": "87af5773",
   "metadata": {},
   "outputs": [],
   "source": []
  }
 ],
 "metadata": {
  "kernelspec": {
   "display_name": "Python 3 (ipykernel)",
   "language": "python",
   "name": "python3"
  },
  "language_info": {
   "codemirror_mode": {
    "name": "ipython",
    "version": 3
   },
   "file_extension": ".py",
   "mimetype": "text/x-python",
   "name": "python",
   "nbconvert_exporter": "python",
   "pygments_lexer": "ipython3",
   "version": "3.9.7"
  }
 },
 "nbformat": 4,
 "nbformat_minor": 5
}
